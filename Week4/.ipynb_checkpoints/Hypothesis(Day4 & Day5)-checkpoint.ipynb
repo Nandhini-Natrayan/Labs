{
 "cells": [
  {
   "cell_type": "code",
   "execution_count": 13,
   "id": "e58205c1",
   "metadata": {},
   "outputs": [],
   "source": [
    "import numpy as np\n",
    "import pandas as pd\n",
    "import scipy.stats as stats\n",
    "import matplotlib.pyplot as plt\n",
    "import seaborn as sns\n",
    "import math"
   ]
  },
  {
   "cell_type": "code",
   "execution_count": 14,
   "id": "eb781c77",
   "metadata": {},
   "outputs": [
    {
     "name": "stdout",
     "output_type": "stream",
     "text": [
      "4.761904761904759\n",
      "1.6603911559963895\n"
     ]
    }
   ],
   "source": [
    "# H0 = 120, H1 != 120\n",
    "population_mean = 120\n",
    "sample_mean = 130.1\n",
    "sample_size = 100\n",
    "st_dev = 21.21\n",
    "\n",
    "st_err = st_dev / math.sqrt(100)\n",
    "z = (sample_mean - population_mean)/ st_err\n",
    "critical_value = stats.t.ppf(0.95, df = 99) # t-table as we do not have the population standard deviation\n",
    "print(z)\n",
    "print(critical_value)\n",
    "# z > critical_value => reject Ho\n",
    "\n",
    "##It is assumed that the mean systolic blood pressure is μ = 120 mm Hg. In the Honolulu Heart Study, \n",
    "##a sample of n = 100 people had an average systolic blood pressure of 130.1 mm Hg with a standard deviation of 21.21 mm Hg.\n",
    "##Is the group significantly different (with respect to systolic blood pressure!) from the regular population?"
   ]
  },
  {
   "cell_type": "code",
   "execution_count": 10,
   "id": "a1c5f979",
   "metadata": {},
   "outputs": [
    {
     "data": {
      "text/html": [
       "<div>\n",
       "<style scoped>\n",
       "    .dataframe tbody tr th:only-of-type {\n",
       "        vertical-align: middle;\n",
       "    }\n",
       "\n",
       "    .dataframe tbody tr th {\n",
       "        vertical-align: top;\n",
       "    }\n",
       "\n",
       "    .dataframe thead th {\n",
       "        text-align: right;\n",
       "    }\n",
       "</style>\n",
       "<table border=\"1\" class=\"dataframe\">\n",
       "  <thead>\n",
       "    <tr style=\"text-align: right;\">\n",
       "      <th></th>\n",
       "      <th>new</th>\n",
       "      <th>old</th>\n",
       "    </tr>\n",
       "  </thead>\n",
       "  <tbody>\n",
       "    <tr>\n",
       "      <th>0</th>\n",
       "      <td>42.1</td>\n",
       "      <td>42.7</td>\n",
       "    </tr>\n",
       "    <tr>\n",
       "      <th>1</th>\n",
       "      <td>41.0</td>\n",
       "      <td>43.6</td>\n",
       "    </tr>\n",
       "    <tr>\n",
       "      <th>2</th>\n",
       "      <td>41.3</td>\n",
       "      <td>43.8</td>\n",
       "    </tr>\n",
       "    <tr>\n",
       "      <th>3</th>\n",
       "      <td>41.8</td>\n",
       "      <td>43.3</td>\n",
       "    </tr>\n",
       "    <tr>\n",
       "      <th>4</th>\n",
       "      <td>42.4</td>\n",
       "      <td>42.5</td>\n",
       "    </tr>\n",
       "    <tr>\n",
       "      <th>5</th>\n",
       "      <td>42.8</td>\n",
       "      <td>43.5</td>\n",
       "    </tr>\n",
       "    <tr>\n",
       "      <th>6</th>\n",
       "      <td>43.2</td>\n",
       "      <td>43.1</td>\n",
       "    </tr>\n",
       "    <tr>\n",
       "      <th>7</th>\n",
       "      <td>42.3</td>\n",
       "      <td>41.7</td>\n",
       "    </tr>\n",
       "    <tr>\n",
       "      <th>8</th>\n",
       "      <td>41.8</td>\n",
       "      <td>44.0</td>\n",
       "    </tr>\n",
       "    <tr>\n",
       "      <th>9</th>\n",
       "      <td>42.7</td>\n",
       "      <td>44.1</td>\n",
       "    </tr>\n",
       "  </tbody>\n",
       "</table>\n",
       "</div>"
      ],
      "text/plain": [
       "    new   old\n",
       "0  42.1  42.7\n",
       "1  41.0  43.6\n",
       "2  41.3  43.8\n",
       "3  41.8  43.3\n",
       "4  42.4  42.5\n",
       "5  42.8  43.5\n",
       "6  43.2  43.1\n",
       "7  42.3  41.7\n",
       "8  41.8  44.0\n",
       "9  42.7  44.1"
      ]
     },
     "execution_count": 10,
     "metadata": {},
     "output_type": "execute_result"
    }
   ],
   "source": [
    "import pandas as pd\n",
    "df=pd.read_fwf('Data_Machine.txt')\n",
    "df.to_csv('Data_Machine.csv')\n",
    "df=df.rename(columns={'New Machine':'new','Old':'old'})\n",
    "df=df.drop(['Machine'],axis=1)\n",
    "df"
   ]
  },
  {
   "cell_type": "code",
   "execution_count": 18,
   "id": "6468f4f9",
   "metadata": {},
   "outputs": [],
   "source": [
    "new_mean=df.new.mean()\n",
    "old_mean=df.old.mean()\n",
    "new_std=df.new.std()\n",
    "old_std=df.old.std()\n",
    "n=10\n"
   ]
  },
  {
   "cell_type": "code",
   "execution_count": 26,
   "id": "57d9d1be",
   "metadata": {},
   "outputs": [],
   "source": [
    "t=(old_mean - new_mean)/math.sqrt((old_std **2)/n)+(new_std **2)/n"
   ]
  },
  {
   "cell_type": "code",
   "execution_count": 27,
   "id": "7f2d0cdf",
   "metadata": {},
   "outputs": [
    {
     "data": {
      "text/plain": [
       "4.643235660938596"
      ]
     },
     "execution_count": 27,
     "metadata": {},
     "output_type": "execute_result"
    }
   ],
   "source": [
    "t"
   ]
  },
  {
   "cell_type": "code",
   "execution_count": null,
   "id": "6cc4bbc6",
   "metadata": {},
   "outputs": [],
   "source": []
  }
 ],
 "metadata": {
  "kernelspec": {
   "display_name": "Python 3 (ipykernel)",
   "language": "python",
   "name": "python3"
  },
  "language_info": {
   "codemirror_mode": {
    "name": "ipython",
    "version": 3
   },
   "file_extension": ".py",
   "mimetype": "text/x-python",
   "name": "python",
   "nbconvert_exporter": "python",
   "pygments_lexer": "ipython3",
   "version": "3.9.13"
  }
 },
 "nbformat": 4,
 "nbformat_minor": 5
}
