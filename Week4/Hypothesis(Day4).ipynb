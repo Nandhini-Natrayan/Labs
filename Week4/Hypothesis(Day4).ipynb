{
 "cells": [
  {
   "cell_type": "code",
   "execution_count": 13,
   "id": "e58205c1",
   "metadata": {},
   "outputs": [],
   "source": [
    "import numpy as np\n",
    "import pandas as pd\n",
    "import scipy.stats as stats\n",
    "import matplotlib.pyplot as plt\n",
    "import seaborn as sns\n",
    "import math"
   ]
  },
  {
   "cell_type": "code",
   "execution_count": 14,
   "id": "eb781c77",
   "metadata": {},
   "outputs": [
    {
     "name": "stdout",
     "output_type": "stream",
     "text": [
      "4.761904761904759\n",
      "1.6603911559963895\n"
     ]
    }
   ],
   "source": [
    "# H0 = 120, H1 != 120\n",
    "population_mean = 120\n",
    "sample_mean = 130.1\n",
    "sample_size = 100\n",
    "st_dev = 21.21\n",
    "\n",
    "st_err = st_dev / math.sqrt(100)\n",
    "z = (sample_mean - population_mean)/ st_err\n",
    "critical_value = stats.t.ppf(0.95, df = 99) # t-table as we do not have the population standard deviation\n",
    "print(z)\n",
    "print(critical_value)\n",
    "# z > critical_value => reject Ho\n",
    "\n",
    "##It is assumed that the mean systolic blood pressure is μ = 120 mm Hg. In the Honolulu Heart Study, \n",
    "##a sample of n = 100 people had an average systolic blood pressure of 130.1 mm Hg with a standard deviation of 21.21 mm Hg.\n",
    "##Is the group significantly different (with respect to systolic blood pressure!) from the regular population?"
   ]
  },
  {
   "cell_type": "code",
   "execution_count": null,
   "id": "a1c5f979",
   "metadata": {},
   "outputs": [],
   "source": []
  }
 ],
 "metadata": {
  "kernelspec": {
   "display_name": "Python 3 (ipykernel)",
   "language": "python",
   "name": "python3"
  },
  "language_info": {
   "codemirror_mode": {
    "name": "ipython",
    "version": 3
   },
   "file_extension": ".py",
   "mimetype": "text/x-python",
   "name": "python",
   "nbconvert_exporter": "python",
   "pygments_lexer": "ipython3",
   "version": "3.9.13"
  }
 },
 "nbformat": 4,
 "nbformat_minor": 5
}
