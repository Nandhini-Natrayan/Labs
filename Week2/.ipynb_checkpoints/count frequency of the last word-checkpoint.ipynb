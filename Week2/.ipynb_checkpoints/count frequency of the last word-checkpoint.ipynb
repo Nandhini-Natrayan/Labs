{
 "cells": [
  {
   "cell_type": "code",
   "execution_count": 59,
   "id": "5e7d3797",
   "metadata": {},
   "outputs": [
    {
     "data": {
      "text/plain": [
       "'world'"
      ]
     },
     "execution_count": 59,
     "metadata": {},
     "output_type": "execute_result"
    }
   ],
   "source": [
    "mystr = \"Hello world\"\n",
    "a=mystr[-5:]\n",
    "a"
   ]
  },
  {
   "cell_type": "code",
   "execution_count": 60,
   "id": "a0ddf7f3",
   "metadata": {},
   "outputs": [
    {
     "data": {
      "text/plain": [
       "5"
      ]
     },
     "execution_count": 60,
     "metadata": {},
     "output_type": "execute_result"
    }
   ],
   "source": [
    "len(a)"
   ]
  },
  {
   "cell_type": "code",
   "execution_count": 61,
   "id": "56d582e2",
   "metadata": {},
   "outputs": [
    {
     "data": {
      "text/plain": [
       "'Hello world'"
      ]
     },
     "execution_count": 61,
     "metadata": {},
     "output_type": "execute_result"
    }
   ],
   "source": [
    "processed_str = mystr.strip()\n",
    "processed_str "
   ]
  },
  {
   "cell_type": "code",
   "execution_count": 62,
   "id": "f4d179d3",
   "metadata": {},
   "outputs": [],
   "source": [
    "i=0\n",
    "intial_val=0\n",
    "for i in range(len(processed_str)):\n",
    "    if processed_str[i]==' ':\n",
    "        intial_val=0\n",
    "    else:\n",
    "        intial_val+=1\n",
    "        \n",
    "        \n",
    "        "
   ]
  },
  {
   "cell_type": "code",
   "execution_count": 63,
   "id": "f830f7d4",
   "metadata": {},
   "outputs": [
    {
     "data": {
      "text/plain": [
       "5"
      ]
     },
     "execution_count": 63,
     "metadata": {},
     "output_type": "execute_result"
    }
   ],
   "source": [
    "intial_val"
   ]
  },
  {
   "cell_type": "code",
   "execution_count": null,
   "id": "672178b4",
   "metadata": {},
   "outputs": [],
   "source": []
  }
 ],
 "metadata": {
  "kernelspec": {
   "display_name": "Python 3 (ipykernel)",
   "language": "python",
   "name": "python3"
  },
  "language_info": {
   "codemirror_mode": {
    "name": "ipython",
    "version": 3
   },
   "file_extension": ".py",
   "mimetype": "text/x-python",
   "name": "python",
   "nbconvert_exporter": "python",
   "pygments_lexer": "ipython3",
   "version": "3.9.13"
  }
 },
 "nbformat": 4,
 "nbformat_minor": 5
}
