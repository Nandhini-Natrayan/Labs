{
 "cells": [
  {
   "cell_type": "code",
   "execution_count": 8,
   "id": "819d8d7e",
   "metadata": {},
   "outputs": [],
   "source": [
    "str_list = ['I', 'am', 'strengthening', 'my', 'programming', 'skills', 'in', 'order', 'to', 'become', 'a', 'great', 'Data','Analyst']\n"
   ]
  },
  {
   "cell_type": "code",
   "execution_count": 10,
   "id": "3c917b8a",
   "metadata": {},
   "outputs": [
    {
     "data": {
      "text/plain": [
       "'I am strengthening my programming skills in order to become a great Data Analyst'"
      ]
     },
     "execution_count": 10,
     "metadata": {},
     "output_type": "execute_result"
    }
   ],
   "source": [
    "' '.join(str_list)"
   ]
  },
  {
   "cell_type": "code",
   "execution_count": 16,
   "id": "075e60ea",
   "metadata": {},
   "outputs": [],
   "source": [
    "food_list = ['Bananas', 'Chocolate', 'bread', 'diapers', 'Ice Cream', 'Brownie Mix', 'broccoli']"
   ]
  },
  {
   "cell_type": "code",
   "execution_count": 21,
   "id": "716d20b8",
   "metadata": {},
   "outputs": [],
   "source": [
    "check = 'B'\n",
    "grocery_list=[idx for idx in food_list if idx[0].lower() == check.lower()]"
   ]
  },
  {
   "cell_type": "code",
   "execution_count": 22,
   "id": "81e0f508",
   "metadata": {},
   "outputs": [
    {
     "name": "stdout",
     "output_type": "stream",
     "text": [
      "The list of matching first letter B: ['Bananas', 'bread', 'Brownie Mix', 'broccoli']\n"
     ]
    }
   ],
   "source": [
    "print(\"The list of matching first letter B: \" + str(grocery_list))"
   ]
  },
  {
   "cell_type": "code",
   "execution_count": 37,
   "id": "b03f30dc",
   "metadata": {},
   "outputs": [
    {
     "name": "stdout",
     "output_type": "stream",
     "text": [
      "The area of the circle with radius:4.5 is 63.61725123519331\n"
     ]
    }
   ],
   "source": [
    "import math\n",
    "string1 = \"The area of the circle with radius:\"\n",
    "string2  = \"is:\"\n",
    "radius = 4.5\n",
    "pi = math.pi\n",
    "area= pi*radius**2\n",
    "def area(r):\n",
    "    radius = 4.5\n",
    "    area = math.pi*radius**2\n",
    "    return print('The area of the circle with radius:4.5 is' ,area)\n",
    "area(4)\n",
    " "
   ]
  },
  {
   "cell_type": "code",
   "execution_count": null,
   "id": "0f9786b5",
   "metadata": {},
   "outputs": [],
   "source": []
  }
 ],
 "metadata": {
  "kernelspec": {
   "display_name": "Python 3 (ipykernel)",
   "language": "python",
   "name": "python3"
  },
  "language_info": {
   "codemirror_mode": {
    "name": "ipython",
    "version": 3
   },
   "file_extension": ".py",
   "mimetype": "text/x-python",
   "name": "python",
   "nbconvert_exporter": "python",
   "pygments_lexer": "ipython3",
   "version": "3.9.13"
  }
 },
 "nbformat": 4,
 "nbformat_minor": 5
}
