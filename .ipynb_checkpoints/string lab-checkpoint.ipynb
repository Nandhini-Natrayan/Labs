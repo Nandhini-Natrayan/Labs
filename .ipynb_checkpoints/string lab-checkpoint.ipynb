{
 "cells": [
  {
   "cell_type": "code",
   "execution_count": 151,
   "id": "819d8d7e",
   "metadata": {},
   "outputs": [],
   "source": [
    "str_list = ['I', 'am', 'strengthening', 'my', 'programming', 'skills', 'in', 'order', 'to', 'become', 'a', 'great', 'Data','Analyst']\n"
   ]
  },
  {
   "cell_type": "code",
   "execution_count": 152,
   "id": "3c917b8a",
   "metadata": {},
   "outputs": [
    {
     "data": {
      "text/plain": [
       "'I am strengthening my programming skills in order to become a great Data Analyst'"
      ]
     },
     "execution_count": 152,
     "metadata": {},
     "output_type": "execute_result"
    }
   ],
   "source": [
    "' '.join(str_list)"
   ]
  },
  {
   "cell_type": "code",
   "execution_count": 153,
   "id": "075e60ea",
   "metadata": {},
   "outputs": [],
   "source": [
    "food_list = ['Bananas', 'Chocolate', 'bread', 'diapers', 'Ice Cream', 'Brownie Mix', 'broccoli']"
   ]
  },
  {
   "cell_type": "code",
   "execution_count": 154,
   "id": "716d20b8",
   "metadata": {},
   "outputs": [],
   "source": [
    "check = 'B'\n",
    "grocery_list=[idx for idx in food_list if idx[0].lower() == check.lower()]"
   ]
  },
  {
   "cell_type": "code",
   "execution_count": 155,
   "id": "81e0f508",
   "metadata": {},
   "outputs": [
    {
     "name": "stdout",
     "output_type": "stream",
     "text": [
      "The list of matching first letter B: ['Bananas', 'bread', 'Brownie Mix', 'broccoli']\n"
     ]
    }
   ],
   "source": [
    "print(\"The list of matching first letter B: \" + str(grocery_list))"
   ]
  },
  {
   "cell_type": "code",
   "execution_count": 156,
   "id": "b03f30dc",
   "metadata": {},
   "outputs": [
    {
     "name": "stdout",
     "output_type": "stream",
     "text": [
      "The area of the circle with radius:4.5 is 63.61725123519331\n"
     ]
    }
   ],
   "source": [
    "import math\n",
    "string1 = \"The area of the circle with radius:\"\n",
    "string2  = \"is:\"\n",
    "radius = 4.5\n",
    "pi = math.pi\n",
    "area= pi*radius**2\n",
    "def area(r):\n",
    "    radius = 4.5\n",
    "    area = math.pi*radius**2\n",
    "    return print('The area of the circle with radius:4.5 is' ,area)\n",
    "area(4)\n",
    " "
   ]
  },
  {
   "cell_type": "markdown",
   "id": "5dd66625",
   "metadata": {},
   "source": [
    "(Optional) Challenge 2 - Splitting Strings\n",
    "We have first looked at combining strings into one long string. There are times where we need to do the opposite and split the string into smaller components for further analysis.\n",
    "\n",
    "In the cell below, split the string into a list of strings using the space delimiter. Count the frequency of each word in the string in a dictionary. Strip the periods, line breaks and commas from the text. Make sure to remove empty strings from your dictionary."
   ]
  },
  {
   "cell_type": "code",
   "execution_count": 157,
   "id": "7aa3d13c",
   "metadata": {},
   "outputs": [],
   "source": [
    "poem = \"\"\"Some say the world will end in fire,\n",
    "Some say in ice.\n",
    "From what I’ve tasted of desire\n",
    "I hold with those who favor fire.\n",
    "But if it had to perish twice,\n",
    "I think I know enough of hate\n",
    "To say that for destruction ice\n",
    "Is also great\n",
    "And would suffice.\"\"\"\n"
   ]
  },
  {
   "cell_type": "code",
   "execution_count": 158,
   "id": "40d19df3",
   "metadata": {},
   "outputs": [],
   "source": [
    "words1 = poem.split()"
   ]
  },
  {
   "cell_type": "code",
   "execution_count": 159,
   "id": "88e3449b",
   "metadata": {},
   "outputs": [
    {
     "data": {
      "text/plain": [
       "['Some',\n",
       " 'say',\n",
       " 'the',\n",
       " 'world',\n",
       " 'will',\n",
       " 'end',\n",
       " 'in',\n",
       " 'fire,',\n",
       " 'Some',\n",
       " 'say',\n",
       " 'in',\n",
       " 'ice.',\n",
       " 'From',\n",
       " 'what',\n",
       " 'I’ve',\n",
       " 'tasted',\n",
       " 'of',\n",
       " 'desire',\n",
       " 'I',\n",
       " 'hold',\n",
       " 'with',\n",
       " 'those',\n",
       " 'who',\n",
       " 'favor',\n",
       " 'fire.',\n",
       " 'But',\n",
       " 'if',\n",
       " 'it',\n",
       " 'had',\n",
       " 'to',\n",
       " 'perish',\n",
       " 'twice,',\n",
       " 'I',\n",
       " 'think',\n",
       " 'I',\n",
       " 'know',\n",
       " 'enough',\n",
       " 'of',\n",
       " 'hate',\n",
       " 'To',\n",
       " 'say',\n",
       " 'that',\n",
       " 'for',\n",
       " 'destruction',\n",
       " 'ice',\n",
       " 'Is',\n",
       " 'also',\n",
       " 'great',\n",
       " 'And',\n",
       " 'would',\n",
       " 'suffice.']"
      ]
     },
     "execution_count": 159,
     "metadata": {},
     "output_type": "execute_result"
    }
   ],
   "source": [
    "words1"
   ]
  },
  {
   "cell_type": "code",
   "execution_count": 160,
   "id": "753814fe",
   "metadata": {},
   "outputs": [],
   "source": [
    "loweralphabets=\"abcdefghijklmnopqrstuvwxyz\"\n",
    "upperalphabets=\"ABCDEFGHIJKLMNOPQRSTUVWXYZ\"\n",
    "x=loweralphabets+upperalphabets\n",
    "words2=[]\n",
    "for i in words1:\n",
    "    b=\"\"\n",
    "    for j in i:\n",
    "        if j in x:\n",
    "            b+=j\n",
    "    if b!='':\n",
    "            words2.append(b)"
   ]
  },
  {
   "cell_type": "code",
   "execution_count": 161,
   "id": "114c9dc6",
   "metadata": {},
   "outputs": [
    {
     "name": "stdout",
     "output_type": "stream",
     "text": [
      "{'Some': 2, 'say': 3, 'the': 1, 'world': 1, 'will': 1, 'end': 1, 'in': 2, 'fire': 2, 'ice': 2, 'From': 1, 'what': 1, 'Ive': 1, 'tasted': 1, 'of': 2, 'desire': 1, 'I': 3, 'hold': 1, 'with': 1, 'those': 1, 'who': 1, 'favor': 1, 'But': 1, 'if': 1, 'it': 1, 'had': 1, 'to': 1, 'perish': 1, 'twice': 1, 'think': 1, 'know': 1, 'enough': 1, 'hate': 1, 'To': 1, 'that': 1, 'for': 1, 'destruction': 1, 'Is': 1, 'also': 1, 'great': 1, 'And': 1, 'would': 1, 'suffice': 1}\n"
     ]
    }
   ],
   "source": [
    "wfreq1=[words2.count(w) for w in words2]\n",
    "m=dict(zip(words2,wfreq1))\n",
    "print((dict(zip(words2,wfreq1))))"
   ]
  },
  {
   "cell_type": "markdown",
   "id": "db3b223f",
   "metadata": {},
   "source": [
    "In the cell below, find all the words that appear in the text and do not appear in the blacklist. You must parse the string but can choose any data structure you wish for the words that do not appear in the blacklist. Remove all non letter characters and convert all words to lower case."
   ]
  },
  {
   "cell_type": "code",
   "execution_count": 162,
   "id": "277f7c2a",
   "metadata": {},
   "outputs": [],
   "source": [
    "blacklist = ['and', 'as', 'an', 'a', 'the', 'in', 'it']\n",
    "\n",
    "poem = \"\"\"I was angry with my friend; \n",
    "I told my wrath, my wrath did end.\n",
    "I was angry with my foe: \n",
    "I told it not, my wrath did grow. \n",
    "\n",
    "And I waterd it in fears,\n",
    "Night & morning with my tears: \n",
    "And I sunned it with smiles,\n",
    "And with soft deceitful wiles. \n",
    "\n",
    "And it grew both day and night. \n",
    "Till it bore an apple bright. \n",
    "And my foe beheld it shine,\n",
    "And he knew that it was mine. \n",
    "\n",
    "And into my garden stole, \n",
    "When the night had veild the pole; \n",
    "In the morning glad I see; \n",
    "My foe outstretched beneath the tree.\"\"\""
   ]
  },
  {
   "cell_type": "code",
   "execution_count": 163,
   "id": "4e8b1756",
   "metadata": {},
   "outputs": [
    {
     "data": {
      "text/plain": [
       "str"
      ]
     },
     "execution_count": 163,
     "metadata": {},
     "output_type": "execute_result"
    }
   ],
   "source": [
    "poem=poem.lower()\n",
    "words_split = poem.split()\n",
    "words_split  \n",
    "type(poem)\n"
   ]
  },
  {
   "cell_type": "code",
   "execution_count": 164,
   "id": "1894d15b",
   "metadata": {},
   "outputs": [],
   "source": [
    "loweralphabets=\"abcdefghijklmnopqrstuvwxyz\"\n",
    "upperalphabets=\"ABCDEFGHIJKLMNOPQRSTUVWXYZ\"\n",
    "x=loweralphabets+upperalphabets\n",
    "words=[]\n",
    "for i in words_split:\n",
    "    a=\"\"\n",
    "    for j in i:\n",
    "        if j in x:\n",
    "            a+=j\n",
    "    if a!='':\n",
    "            words.append(a)"
   ]
  },
  {
   "cell_type": "code",
   "execution_count": 165,
   "id": "3b92050f",
   "metadata": {},
   "outputs": [
    {
     "name": "stdout",
     "output_type": "stream",
     "text": [
      "{'i': 7, 'was': 3, 'angry': 2, 'with': 5, 'my': 9, 'friend': 1, 'told': 2, 'wrath': 3, 'did': 2, 'end': 1, 'foe': 3, 'it': 7, 'not': 1, 'grow': 1, 'and': 8, 'waterd': 1, 'in': 2, 'fears': 1, 'night': 3, 'morning': 2, 'tears': 1, 'sunned': 1, 'smiles': 1, 'soft': 1, 'deceitful': 1, 'wiles': 1, 'grew': 1, 'both': 1, 'day': 1, 'till': 1, 'bore': 1, 'an': 1, 'apple': 1, 'bright': 1, 'beheld': 1, 'shine': 1, 'he': 1, 'knew': 1, 'that': 1, 'mine': 1, 'into': 1, 'garden': 1, 'stole': 1, 'when': 1, 'the': 4, 'had': 1, 'veild': 1, 'pole': 1, 'glad': 1, 'see': 1, 'outstretched': 1, 'beneath': 1, 'tree': 1}\n"
     ]
    }
   ],
   "source": [
    "wfreq=[words.count(w) for w in words]\n",
    "k=dict(zip(words,wfreq))\n",
    "print((dict(zip(words,wfreq))))"
   ]
  },
  {
   "cell_type": "code",
   "execution_count": 166,
   "id": "db8a158f",
   "metadata": {},
   "outputs": [],
   "source": [
    "blacklist = ['and', 'as', 'an', 'a', 'the', 'in', 'it']"
   ]
  },
  {
   "cell_type": "code",
   "execution_count": 167,
   "id": "a67e86fc",
   "metadata": {},
   "outputs": [
    {
     "data": {
      "text/plain": [
       "dict"
      ]
     },
     "execution_count": 167,
     "metadata": {},
     "output_type": "execute_result"
    }
   ],
   "source": [
    "type(k)\n"
   ]
  },
  {
   "cell_type": "code",
   "execution_count": 168,
   "id": "37f9a135",
   "metadata": {},
   "outputs": [],
   "source": [
    "n={}"
   ]
  },
  {
   "cell_type": "code",
   "execution_count": 169,
   "id": "383fcbd9",
   "metadata": {},
   "outputs": [],
   "source": [
    "###find all the words that appear in the text and do not appear in the blacklist.\n",
    "\n",
    "for key,v in k.items():\n",
    "    j=0\n",
    "    for i in blacklist:\n",
    "        if i==key:\n",
    "            j=j+1  \n",
    "    if j==0:\n",
    "        n[key]=v\n"
   ]
  },
  {
   "cell_type": "code",
   "execution_count": 170,
   "id": "233d23b6",
   "metadata": {
    "scrolled": true
   },
   "outputs": [
    {
     "data": {
      "text/plain": [
       "{'i': 7,\n",
       " 'was': 3,\n",
       " 'angry': 2,\n",
       " 'with': 5,\n",
       " 'my': 9,\n",
       " 'friend': 1,\n",
       " 'told': 2,\n",
       " 'wrath': 3,\n",
       " 'did': 2,\n",
       " 'end': 1,\n",
       " 'foe': 3,\n",
       " 'not': 1,\n",
       " 'grow': 1,\n",
       " 'waterd': 1,\n",
       " 'fears': 1,\n",
       " 'night': 3,\n",
       " 'morning': 2,\n",
       " 'tears': 1,\n",
       " 'sunned': 1,\n",
       " 'smiles': 1,\n",
       " 'soft': 1,\n",
       " 'deceitful': 1,\n",
       " 'wiles': 1,\n",
       " 'grew': 1,\n",
       " 'both': 1,\n",
       " 'day': 1,\n",
       " 'till': 1,\n",
       " 'bore': 1,\n",
       " 'apple': 1,\n",
       " 'bright': 1,\n",
       " 'beheld': 1,\n",
       " 'shine': 1,\n",
       " 'he': 1,\n",
       " 'knew': 1,\n",
       " 'that': 1,\n",
       " 'mine': 1,\n",
       " 'into': 1,\n",
       " 'garden': 1,\n",
       " 'stole': 1,\n",
       " 'when': 1,\n",
       " 'had': 1,\n",
       " 'veild': 1,\n",
       " 'pole': 1,\n",
       " 'glad': 1,\n",
       " 'see': 1,\n",
       " 'outstretched': 1,\n",
       " 'beneath': 1,\n",
       " 'tree': 1}"
      ]
     },
     "execution_count": 170,
     "metadata": {},
     "output_type": "execute_result"
    }
   ],
   "source": [
    "n"
   ]
  },
  {
   "cell_type": "code",
   "execution_count": null,
   "id": "f682fde9",
   "metadata": {},
   "outputs": [],
   "source": []
  }
 ],
 "metadata": {
  "kernelspec": {
   "display_name": "Python 3 (ipykernel)",
   "language": "python",
   "name": "python3"
  },
  "language_info": {
   "codemirror_mode": {
    "name": "ipython",
    "version": 3
   },
   "file_extension": ".py",
   "mimetype": "text/x-python",
   "name": "python",
   "nbconvert_exporter": "python",
   "pygments_lexer": "ipython3",
   "version": "3.9.13"
  }
 },
 "nbformat": 4,
 "nbformat_minor": 5
}
