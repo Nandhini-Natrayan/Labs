{
 "cells": [
  {
   "cell_type": "code",
   "execution_count": 68,
   "id": "b50f4b76",
   "metadata": {
    "scrolled": true
   },
   "outputs": [
    {
     "name": "stdout",
     "output_type": "stream",
     "text": [
      "[79, 25, 97, 29, 30, 2, 52, 39, 84, 84, 93, 53, 91, 78, 78, 69, 64, 91, 12, 45, 51, 4, 77, 56, 69, 71, 63, 1, 78, 45, 73, 14, 35, 58, 74, 17, 35, 84, 40, 69, 30, 82, 2, 71, 84, 69, 29, 74, 48, 10, 92, 5, 39, 14, 80, 14, 77, 62, 69, 74, 54, 54, 73, 12, 27, 0, 94, 53, 42, 32, 80, 69, 38, 77, 89, 33, 57, 85, 51, 66]\n"
     ]
    }
   ],
   "source": [
    "import random\n",
    "\n",
    "sample_list_1 = []\n",
    " \n",
    "for i in range(80):\n",
    "    sample_list_1.append(random.randint(0,100))\n",
    "print(sample_list_1)"
   ]
  },
  {
   "cell_type": "code",
   "execution_count": 69,
   "id": "f85a3c6b",
   "metadata": {},
   "outputs": [
    {
     "data": {
      "text/plain": [
       "80"
      ]
     },
     "execution_count": 69,
     "metadata": {},
     "output_type": "execute_result"
    }
   ],
   "source": [
    "len(sample_list_1)"
   ]
  },
  {
   "cell_type": "code",
   "execution_count": 70,
   "id": "25f2d8af",
   "metadata": {},
   "outputs": [],
   "source": [
    "set1=set(sample_list_1)"
   ]
  },
  {
   "cell_type": "code",
   "execution_count": 71,
   "id": "ab991d4d",
   "metadata": {},
   "outputs": [
    {
     "name": "stdout",
     "output_type": "stream",
     "text": [
      "50\n"
     ]
    }
   ],
   "source": [
    "print(len(set1))"
   ]
  },
  {
   "cell_type": "code",
   "execution_count": 72,
   "id": "fc693c93",
   "metadata": {},
   "outputs": [
    {
     "name": "stdout",
     "output_type": "stream",
     "text": [
      "[86, 52, 24, 20, 10, 8, 60, 50, 83, 75, 99, 97, 47, 73, 20, 77, 7, 26, 61, 77, 73, 36, 33, 95, 70, 50, 19, 55, 33, 91, 6, 53, 90, 11, 32, 66, 81, 86, 17, 13, 49, 19, 37, 8, 3, 91, 2, 89, 76, 73, 50, 95, 37, 95, 2, 16, 8, 75, 58, 87, 10, 47, 58, 37, 14, 82, 90, 13, 72, 73, 40, 56, 51, 52, 5, 81, 61, 41, 73, 3]\n"
     ]
    }
   ],
   "source": [
    "import random\n",
    "sample_list_2 = []\n",
    " \n",
    "for i in range(80):\n",
    "    sample_list_2.append(random.randint(0,100))\n",
    "print(sample_list_2)"
   ]
  },
  {
   "cell_type": "code",
   "execution_count": 73,
   "id": "1441f5f4",
   "metadata": {},
   "outputs": [
    {
     "data": {
      "text/plain": [
       "80"
      ]
     },
     "execution_count": 73,
     "metadata": {},
     "output_type": "execute_result"
    }
   ],
   "source": [
    "len(sample_list_2)"
   ]
  },
  {
   "cell_type": "code",
   "execution_count": 74,
   "id": "94fcca7b",
   "metadata": {},
   "outputs": [],
   "source": [
    "set2=set(sample_list_2)"
   ]
  },
  {
   "cell_type": "code",
   "execution_count": 75,
   "id": "61424555",
   "metadata": {},
   "outputs": [
    {
     "name": "stdout",
     "output_type": "stream",
     "text": [
      "50\n"
     ]
    }
   ],
   "source": [
    "print(len(set1))"
   ]
  },
  {
   "cell_type": "code",
   "execution_count": 76,
   "id": "b1624b9f",
   "metadata": {},
   "outputs": [
    {
     "name": "stdout",
     "output_type": "stream",
     "text": [
      "51\n"
     ]
    }
   ],
   "source": [
    "print(len(set2))"
   ]
  },
  {
   "cell_type": "markdown",
   "id": "adc0973e",
   "metadata": {},
   "source": [
    "#Identify the elements present in set1 but not in set2. Assign the elements to a new set named set3."
   ]
  },
  {
   "cell_type": "code",
   "execution_count": 77,
   "id": "79e93cfb",
   "metadata": {},
   "outputs": [
    {
     "data": {
      "text/plain": [
       "{0,\n",
       " 1,\n",
       " 4,\n",
       " 12,\n",
       " 25,\n",
       " 27,\n",
       " 29,\n",
       " 30,\n",
       " 35,\n",
       " 38,\n",
       " 39,\n",
       " 42,\n",
       " 45,\n",
       " 48,\n",
       " 54,\n",
       " 57,\n",
       " 62,\n",
       " 63,\n",
       " 64,\n",
       " 69,\n",
       " 71,\n",
       " 74,\n",
       " 78,\n",
       " 79,\n",
       " 80,\n",
       " 84,\n",
       " 85,\n",
       " 92,\n",
       " 93,\n",
       " 94}"
      ]
     },
     "execution_count": 77,
     "metadata": {},
     "output_type": "execute_result"
    }
   ],
   "source": [
    "set3=set1-set2\n",
    "set3"
   ]
  },
  {
   "cell_type": "markdown",
   "id": "9aa5abb5",
   "metadata": {},
   "source": [
    "##Identify the elements present in set2 but not in set1. Assign the elements to a new set named set4."
   ]
  },
  {
   "cell_type": "code",
   "execution_count": 78,
   "id": "996fe784",
   "metadata": {},
   "outputs": [
    {
     "data": {
      "text/plain": [
       "{3,\n",
       " 6,\n",
       " 7,\n",
       " 8,\n",
       " 11,\n",
       " 13,\n",
       " 16,\n",
       " 19,\n",
       " 20,\n",
       " 24,\n",
       " 26,\n",
       " 36,\n",
       " 37,\n",
       " 41,\n",
       " 47,\n",
       " 49,\n",
       " 50,\n",
       " 55,\n",
       " 60,\n",
       " 61,\n",
       " 70,\n",
       " 72,\n",
       " 75,\n",
       " 76,\n",
       " 81,\n",
       " 83,\n",
       " 86,\n",
       " 87,\n",
       " 90,\n",
       " 95,\n",
       " 99}"
      ]
     },
     "execution_count": 78,
     "metadata": {},
     "output_type": "execute_result"
    }
   ],
   "source": [
    "set4=set2-set1\n",
    "set4"
   ]
  },
  {
   "cell_type": "code",
   "execution_count": 79,
   "id": "57448fe8",
   "metadata": {},
   "outputs": [
    {
     "data": {
      "text/plain": [
       "31"
      ]
     },
     "execution_count": 79,
     "metadata": {},
     "output_type": "execute_result"
    }
   ],
   "source": [
    "len(set4)"
   ]
  },
  {
   "cell_type": "markdown",
   "id": "a6cc9103",
   "metadata": {},
   "source": [
    "##Now Identify the elements shared between set1 and set2. Assign the elements to a new set named set5"
   ]
  },
  {
   "cell_type": "code",
   "execution_count": 80,
   "id": "2f2a0c47",
   "metadata": {},
   "outputs": [],
   "source": [
    "set5=[]"
   ]
  },
  {
   "cell_type": "code",
   "execution_count": 81,
   "id": "ed138338",
   "metadata": {},
   "outputs": [],
   "source": [
    "set5=set1.intersection(set2)"
   ]
  },
  {
   "cell_type": "code",
   "execution_count": 82,
   "id": "2f8ff547",
   "metadata": {},
   "outputs": [
    {
     "name": "stdout",
     "output_type": "stream",
     "text": [
      "{2, 5, 10, 14, 17, 32, 33, 40, 51, 52, 53, 56, 58, 66, 73, 77, 82, 89, 91, 97}\n"
     ]
    }
   ],
   "source": [
    "print (set5)"
   ]
  },
  {
   "cell_type": "markdown",
   "id": "b5e1dff8",
   "metadata": {},
   "source": [
    "(Optional) What is the relationship among the following values:\n",
    "len(set1)\n",
    "len(set2)\n",
    "len(set3)\n",
    "len(set4)\n",
    "len(set5)\n",
    "Use a formula to represent that relationship. Test your formula with Python code."
   ]
  },
  {
   "cell_type": "code",
   "execution_count": 83,
   "id": "ddde1c38",
   "metadata": {},
   "outputs": [
    {
     "name": "stdout",
     "output_type": "stream",
     "text": [
      "50\n",
      "51\n",
      "30\n",
      "31\n",
      "20\n"
     ]
    }
   ],
   "source": [
    "print(len(set1))\n",
    "print(len(set2))\n",
    "print(len(set3))\n",
    "print(len(set4))\n",
    "print(len(set5))"
   ]
  },
  {
   "cell_type": "markdown",
   "id": "37a6481f",
   "metadata": {},
   "source": [
    "##Create an empty set called set6."
   ]
  },
  {
   "cell_type": "markdown",
   "id": "5e1f4045",
   "metadata": {},
   "source": [
    "###Add set3 and set5 to set6 using the Python Set update method."
   ]
  },
  {
   "cell_type": "code",
   "execution_count": 84,
   "id": "3781c07e",
   "metadata": {},
   "outputs": [],
   "source": [
    "set6=set()"
   ]
  },
  {
   "cell_type": "code",
   "execution_count": 85,
   "id": "035cf55a",
   "metadata": {},
   "outputs": [],
   "source": [
    "set6.update(set3,set5)\n"
   ]
  },
  {
   "cell_type": "code",
   "execution_count": 86,
   "id": "f6676ffa",
   "metadata": {},
   "outputs": [
    {
     "name": "stdout",
     "output_type": "stream",
     "text": [
      "{0, 1, 2, 4, 5, 10, 12, 14, 17, 25, 27, 29, 30, 32, 33, 35, 38, 39, 40, 42, 45, 48, 51, 52, 53, 54, 56, 57, 58, 62, 63, 64, 66, 69, 71, 73, 74, 77, 78, 79, 80, 82, 84, 85, 89, 91, 92, 93, 94, 97}\n"
     ]
    }
   ],
   "source": [
    "print(set6)"
   ]
  },
  {
   "cell_type": "markdown",
   "id": "373eefe7",
   "metadata": {},
   "source": [
    "###Check if set1 and set6 are equal"
   ]
  },
  {
   "cell_type": "code",
   "execution_count": 87,
   "id": "cd7b45fd",
   "metadata": {},
   "outputs": [
    {
     "data": {
      "text/plain": [
       "True"
      ]
     },
     "execution_count": 87,
     "metadata": {},
     "output_type": "execute_result"
    }
   ],
   "source": [
    "set1==set6"
   ]
  },
  {
   "cell_type": "markdown",
   "id": "caebd88b",
   "metadata": {},
   "source": [
    "##Check if set1 contains set2 using the Python Set issubset method. Then check if set1 contains set3.*"
   ]
  },
  {
   "cell_type": "code",
   "execution_count": 88,
   "id": "25eb2fa8",
   "metadata": {},
   "outputs": [
    {
     "data": {
      "text/plain": [
       "False"
      ]
     },
     "execution_count": 88,
     "metadata": {},
     "output_type": "execute_result"
    }
   ],
   "source": [
    "set1.issubset(set2)"
   ]
  },
  {
   "cell_type": "code",
   "execution_count": 89,
   "id": "7d3cd126",
   "metadata": {},
   "outputs": [
    {
     "data": {
      "text/plain": [
       "False"
      ]
     },
     "execution_count": 89,
     "metadata": {},
     "output_type": "execute_result"
    }
   ],
   "source": [
    "set1.issubset(set3)"
   ]
  },
  {
   "cell_type": "markdown",
   "id": "7022b813",
   "metadata": {},
   "source": [
    "##Using the Python Set union method, aggregate set3, set4, and set5. Then aggregate set1 and set2"
   ]
  },
  {
   "cell_type": "code",
   "execution_count": 90,
   "id": "ffe80bd2",
   "metadata": {
    "collapsed": true
   },
   "outputs": [
    {
     "data": {
      "text/plain": [
       "{0,\n",
       " 1,\n",
       " 2,\n",
       " 3,\n",
       " 4,\n",
       " 5,\n",
       " 6,\n",
       " 7,\n",
       " 8,\n",
       " 10,\n",
       " 11,\n",
       " 12,\n",
       " 13,\n",
       " 14,\n",
       " 16,\n",
       " 17,\n",
       " 19,\n",
       " 20,\n",
       " 24,\n",
       " 25,\n",
       " 26,\n",
       " 27,\n",
       " 29,\n",
       " 30,\n",
       " 32,\n",
       " 33,\n",
       " 35,\n",
       " 36,\n",
       " 37,\n",
       " 38,\n",
       " 39,\n",
       " 40,\n",
       " 41,\n",
       " 42,\n",
       " 45,\n",
       " 47,\n",
       " 48,\n",
       " 49,\n",
       " 50,\n",
       " 51,\n",
       " 52,\n",
       " 53,\n",
       " 54,\n",
       " 55,\n",
       " 56,\n",
       " 57,\n",
       " 58,\n",
       " 60,\n",
       " 61,\n",
       " 62,\n",
       " 63,\n",
       " 64,\n",
       " 66,\n",
       " 69,\n",
       " 70,\n",
       " 71,\n",
       " 72,\n",
       " 73,\n",
       " 74,\n",
       " 75,\n",
       " 76,\n",
       " 77,\n",
       " 78,\n",
       " 79,\n",
       " 80,\n",
       " 81,\n",
       " 82,\n",
       " 83,\n",
       " 84,\n",
       " 85,\n",
       " 86,\n",
       " 87,\n",
       " 89,\n",
       " 90,\n",
       " 91,\n",
       " 92,\n",
       " 93,\n",
       " 94,\n",
       " 95,\n",
       " 97,\n",
       " 99}"
      ]
     },
     "execution_count": 90,
     "metadata": {},
     "output_type": "execute_result"
    }
   ],
   "source": [
    "set_union=set3.union(set4,set5)\n",
    "set_union"
   ]
  },
  {
   "cell_type": "code",
   "execution_count": 91,
   "id": "5efd0743",
   "metadata": {},
   "outputs": [
    {
     "data": {
      "text/plain": [
       "81"
      ]
     },
     "execution_count": 91,
     "metadata": {},
     "output_type": "execute_result"
    }
   ],
   "source": [
    "len(set_union)"
   ]
  },
  {
   "cell_type": "code",
   "execution_count": 92,
   "id": "47b1d191",
   "metadata": {},
   "outputs": [],
   "source": [
    "set_union1=set1.union(set2)"
   ]
  },
  {
   "cell_type": "code",
   "execution_count": 93,
   "id": "194fcb53",
   "metadata": {
    "collapsed": true
   },
   "outputs": [
    {
     "data": {
      "text/plain": [
       "{0,\n",
       " 1,\n",
       " 2,\n",
       " 3,\n",
       " 4,\n",
       " 5,\n",
       " 6,\n",
       " 7,\n",
       " 8,\n",
       " 10,\n",
       " 11,\n",
       " 12,\n",
       " 13,\n",
       " 14,\n",
       " 16,\n",
       " 17,\n",
       " 19,\n",
       " 20,\n",
       " 24,\n",
       " 25,\n",
       " 26,\n",
       " 27,\n",
       " 29,\n",
       " 30,\n",
       " 32,\n",
       " 33,\n",
       " 35,\n",
       " 36,\n",
       " 37,\n",
       " 38,\n",
       " 39,\n",
       " 40,\n",
       " 41,\n",
       " 42,\n",
       " 45,\n",
       " 47,\n",
       " 48,\n",
       " 49,\n",
       " 50,\n",
       " 51,\n",
       " 52,\n",
       " 53,\n",
       " 54,\n",
       " 55,\n",
       " 56,\n",
       " 57,\n",
       " 58,\n",
       " 60,\n",
       " 61,\n",
       " 62,\n",
       " 63,\n",
       " 64,\n",
       " 66,\n",
       " 69,\n",
       " 70,\n",
       " 71,\n",
       " 72,\n",
       " 73,\n",
       " 74,\n",
       " 75,\n",
       " 76,\n",
       " 77,\n",
       " 78,\n",
       " 79,\n",
       " 80,\n",
       " 81,\n",
       " 82,\n",
       " 83,\n",
       " 84,\n",
       " 85,\n",
       " 86,\n",
       " 87,\n",
       " 89,\n",
       " 90,\n",
       " 91,\n",
       " 92,\n",
       " 93,\n",
       " 94,\n",
       " 95,\n",
       " 97,\n",
       " 99}"
      ]
     },
     "execution_count": 93,
     "metadata": {},
     "output_type": "execute_result"
    }
   ],
   "source": [
    "set_union1"
   ]
  },
  {
   "cell_type": "code",
   "execution_count": 94,
   "id": "6ed9b251",
   "metadata": {},
   "outputs": [
    {
     "data": {
      "text/plain": [
       "81"
      ]
     },
     "execution_count": 94,
     "metadata": {},
     "output_type": "execute_result"
    }
   ],
   "source": [
    "len(set_union1)"
   ]
  },
  {
   "cell_type": "markdown",
   "id": "060a0e95",
   "metadata": {},
   "source": [
    "##Using the pop method, remove an element from set1"
   ]
  },
  {
   "cell_type": "markdown",
   "id": "cba44e5f",
   "metadata": {},
   "source": [
    "###Remove every element in the following list from set1 if they are present in the set. Print the remaining elements.\n",
    "list_to_remove = [1, 9, 11, 19, 21, 29, 31, 39, 41, 49, 51, 59, 61, 69, 71, 79, 81, 89, 91, 99]"
   ]
  },
  {
   "cell_type": "code",
   "execution_count": 95,
   "id": "5f46cd3b",
   "metadata": {
    "collapsed": true
   },
   "outputs": [
    {
     "data": {
      "text/plain": [
       "{0,\n",
       " 1,\n",
       " 2,\n",
       " 4,\n",
       " 5,\n",
       " 10,\n",
       " 12,\n",
       " 14,\n",
       " 17,\n",
       " 25,\n",
       " 27,\n",
       " 29,\n",
       " 30,\n",
       " 32,\n",
       " 33,\n",
       " 35,\n",
       " 38,\n",
       " 39,\n",
       " 40,\n",
       " 42,\n",
       " 45,\n",
       " 48,\n",
       " 51,\n",
       " 52,\n",
       " 53,\n",
       " 54,\n",
       " 56,\n",
       " 57,\n",
       " 58,\n",
       " 62,\n",
       " 63,\n",
       " 64,\n",
       " 66,\n",
       " 69,\n",
       " 71,\n",
       " 73,\n",
       " 74,\n",
       " 77,\n",
       " 78,\n",
       " 79,\n",
       " 80,\n",
       " 82,\n",
       " 84,\n",
       " 85,\n",
       " 89,\n",
       " 91,\n",
       " 92,\n",
       " 93,\n",
       " 94,\n",
       " 97}"
      ]
     },
     "execution_count": 95,
     "metadata": {},
     "output_type": "execute_result"
    }
   ],
   "source": [
    "set1"
   ]
  },
  {
   "cell_type": "code",
   "execution_count": 96,
   "id": "103c3dfb",
   "metadata": {},
   "outputs": [
    {
     "data": {
      "text/plain": [
       "50"
      ]
     },
     "execution_count": 96,
     "metadata": {},
     "output_type": "execute_result"
    }
   ],
   "source": [
    "len(set1)"
   ]
  },
  {
   "cell_type": "code",
   "execution_count": 97,
   "id": "af1b1498",
   "metadata": {},
   "outputs": [],
   "source": [
    "list_to_remove1=[1, 9, 11, 19, 21, 29, 31, 39, 41, 49, 51, 59, 61, 69, 71, 79, 81, 89, 91, 99]###the elements are in the list form need to change\n",
    "###to the set "
   ]
  },
  {
   "cell_type": "code",
   "execution_count": 98,
   "id": "bf22177e",
   "metadata": {},
   "outputs": [],
   "source": [
    "list_to_remove=set()"
   ]
  },
  {
   "cell_type": "code",
   "execution_count": 99,
   "id": "873a1f13",
   "metadata": {},
   "outputs": [],
   "source": [
    "list_to_remove.update(list_to_remove1)####updating the list into the empty set"
   ]
  },
  {
   "cell_type": "code",
   "execution_count": 100,
   "id": "d94b33e8",
   "metadata": {},
   "outputs": [
    {
     "name": "stdout",
     "output_type": "stream",
     "text": [
      "{1, 9, 11, 19, 21, 29, 31, 39, 41, 49, 51, 59, 61, 69, 71, 79, 81, 89, 91, 99}\n"
     ]
    }
   ],
   "source": [
    "print(list_to_remove)"
   ]
  },
  {
   "cell_type": "code",
   "execution_count": 104,
   "id": "df511e4d",
   "metadata": {},
   "outputs": [],
   "source": [
    "for n in list_to_remove:\n",
    "    while n in set1:\n",
    "        set1.pop(n)"
   ]
  },
  {
   "cell_type": "code",
   "execution_count": 105,
   "id": "725c934b",
   "metadata": {},
   "outputs": [
    {
     "name": "stdout",
     "output_type": "stream",
     "text": [
      "{0, 2, 4, 5, 10, 12, 14, 17, 25, 27, 30, 32, 33, 35, 38, 40, 42, 45, 48, 52, 53, 54, 56, 57, 58, 62, 63, 64, 66, 73, 74, 77, 78, 80, 82, 84, 85, 92, 93, 94, 97}\n"
     ]
    }
   ],
   "source": [
    "print(set1)"
   ]
  },
  {
   "cell_type": "code",
   "execution_count": 106,
   "id": "3044e7d1",
   "metadata": {},
   "outputs": [
    {
     "data": {
      "text/plain": [
       "41"
      ]
     },
     "execution_count": 106,
     "metadata": {},
     "output_type": "execute_result"
    }
   ],
   "source": [
    "len(set1)"
   ]
  },
  {
   "cell_type": "code",
   "execution_count": null,
   "id": "488c560a",
   "metadata": {},
   "outputs": [],
   "source": []
  }
 ],
 "metadata": {
  "kernelspec": {
   "display_name": "Python 3 (ipykernel)",
   "language": "python",
   "name": "python3"
  },
  "language_info": {
   "codemirror_mode": {
    "name": "ipython",
    "version": 3
   },
   "file_extension": ".py",
   "mimetype": "text/x-python",
   "name": "python",
   "nbconvert_exporter": "python",
   "pygments_lexer": "ipython3",
   "version": "3.9.13"
  }
 },
 "nbformat": 4,
 "nbformat_minor": 5
}
