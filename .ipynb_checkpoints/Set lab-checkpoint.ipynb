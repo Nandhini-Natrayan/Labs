{
 "cells": [
  {
   "cell_type": "code",
   "execution_count": 26,
   "id": "b50f4b76",
   "metadata": {
    "scrolled": true
   },
   "outputs": [
    {
     "name": "stdout",
     "output_type": "stream",
     "text": [
      "[18, 23, 51, 5, 51, 20, 70, 68, 19, 45, 13, 46, 85, 93, 50, 68, 69, 51, 85, 85, 37, 75, 1, 49, 23, 6, 74, 61, 63, 82, 12, 71, 53, 19, 96, 94, 72, 84, 22, 13, 92, 87, 14, 24, 57, 71, 64, 1, 88, 100, 72, 10, 72, 40, 17, 29, 65, 33, 73, 51, 8, 4, 9, 46, 34, 50, 68, 37, 35, 96, 87, 53, 88, 28, 90, 33, 52, 72, 91, 0]\n"
     ]
    }
   ],
   "source": [
    "import random\n",
    "\n",
    "sample_list_1 = []\n",
    " \n",
    "for i in range(80):\n",
    "    sample_list_1.append(random.randint(0,100))\n",
    "print(sample_list_1)"
   ]
  },
  {
   "cell_type": "code",
   "execution_count": 27,
   "id": "f85a3c6b",
   "metadata": {},
   "outputs": [
    {
     "data": {
      "text/plain": [
       "80"
      ]
     },
     "execution_count": 27,
     "metadata": {},
     "output_type": "execute_result"
    }
   ],
   "source": [
    "len(sample_list_1)"
   ]
  },
  {
   "cell_type": "code",
   "execution_count": 28,
   "id": "25f2d8af",
   "metadata": {},
   "outputs": [],
   "source": [
    "set1=set(sample_list_1)"
   ]
  },
  {
   "cell_type": "code",
   "execution_count": 29,
   "id": "ab991d4d",
   "metadata": {},
   "outputs": [
    {
     "name": "stdout",
     "output_type": "stream",
     "text": [
      "57\n"
     ]
    }
   ],
   "source": [
    "print(len(set1))"
   ]
  },
  {
   "cell_type": "code",
   "execution_count": 33,
   "id": "fc693c93",
   "metadata": {},
   "outputs": [
    {
     "name": "stdout",
     "output_type": "stream",
     "text": [
      "[74, 1, 69, 54, 53, 17, 39, 55, 64, 65, 22, 83, 58, 78, 42, 77, 46, 61, 50, 33, 26, 19, 15, 67, 2, 89, 87, 36, 91, 20, 34, 20, 13, 5, 15, 44, 36, 80, 55, 70, 5, 61, 62, 45, 12, 98, 95, 1, 76, 50, 4, 100, 62, 41, 70, 25, 56, 98, 93, 74, 82, 42, 59, 100, 78, 56, 62, 3, 84, 63, 59, 58, 4, 40, 79, 32, 12, 91, 93, 41]\n"
     ]
    }
   ],
   "source": [
    "import random\n",
    "sample_list_2 = []\n",
    " \n",
    "for i in range(80):\n",
    "    sample_list_2.append(random.randint(0,100))\n",
    "print(sample_list_2)"
   ]
  },
  {
   "cell_type": "code",
   "execution_count": 34,
   "id": "1441f5f4",
   "metadata": {},
   "outputs": [
    {
     "data": {
      "text/plain": [
       "80"
      ]
     },
     "execution_count": 34,
     "metadata": {},
     "output_type": "execute_result"
    }
   ],
   "source": [
    "len(sample_list_2)"
   ]
  },
  {
   "cell_type": "code",
   "execution_count": 35,
   "id": "94fcca7b",
   "metadata": {},
   "outputs": [],
   "source": [
    "set2=set(sample_list_2)"
   ]
  },
  {
   "cell_type": "code",
   "execution_count": 36,
   "id": "61424555",
   "metadata": {},
   "outputs": [
    {
     "name": "stdout",
     "output_type": "stream",
     "text": [
      "57\n"
     ]
    }
   ],
   "source": [
    "print(len(set1))"
   ]
  },
  {
   "cell_type": "code",
   "execution_count": 50,
   "id": "ec583dea",
   "metadata": {},
   "outputs": [
    {
     "name": "stdout",
     "output_type": "stream",
     "text": [
      "56\n"
     ]
    }
   ],
   "source": [
    "print(len(set2))"
   ]
  },
  {
   "cell_type": "markdown",
   "id": "884fa824",
   "metadata": {},
   "source": [
    "#Identify the elements present in set1 but not in set2. Assign the elements to a new set named set3."
   ]
  },
  {
   "cell_type": "code",
   "execution_count": 56,
   "id": "79e93cfb",
   "metadata": {},
   "outputs": [
    {
     "data": {
      "text/plain": [
       "[0,\n",
       " 6,\n",
       " 8,\n",
       " 9,\n",
       " 10,\n",
       " 14,\n",
       " 18,\n",
       " 23,\n",
       " 24,\n",
       " 28,\n",
       " 29,\n",
       " 35,\n",
       " 37,\n",
       " 49,\n",
       " 51,\n",
       " 52,\n",
       " 57,\n",
       " 68,\n",
       " 71,\n",
       " 72,\n",
       " 73,\n",
       " 75,\n",
       " 85,\n",
       " 88,\n",
       " 90,\n",
       " 92,\n",
       " 94,\n",
       " 96]"
      ]
     },
     "execution_count": 56,
     "metadata": {},
     "output_type": "execute_result"
    }
   ],
   "source": [
    "set3=list(set1.difference(set2))\n",
    "set3"
   ]
  },
  {
   "cell_type": "code",
   "execution_count": 57,
   "id": "c35eb6ed",
   "metadata": {},
   "outputs": [
    {
     "data": {
      "text/plain": [
       "28"
      ]
     },
     "execution_count": 57,
     "metadata": {},
     "output_type": "execute_result"
    }
   ],
   "source": [
    "len(list(set1.difference(set2)))"
   ]
  },
  {
   "cell_type": "markdown",
   "id": "cc52c8a7",
   "metadata": {},
   "source": [
    "##Identify the elements present in set2 but not in set1. Assign the elements to a new set named set4."
   ]
  },
  {
   "cell_type": "code",
   "execution_count": 61,
   "id": "6a6b3265",
   "metadata": {},
   "outputs": [
    {
     "data": {
      "text/plain": [
       "[2,\n",
       " 3,\n",
       " 15,\n",
       " 25,\n",
       " 26,\n",
       " 32,\n",
       " 36,\n",
       " 39,\n",
       " 41,\n",
       " 42,\n",
       " 44,\n",
       " 54,\n",
       " 55,\n",
       " 56,\n",
       " 58,\n",
       " 59,\n",
       " 62,\n",
       " 67,\n",
       " 76,\n",
       " 77,\n",
       " 78,\n",
       " 79,\n",
       " 80,\n",
       " 83,\n",
       " 89,\n",
       " 95,\n",
       " 98]"
      ]
     },
     "execution_count": 61,
     "metadata": {},
     "output_type": "execute_result"
    }
   ],
   "source": [
    "set4=list(set2.difference(set1))\n",
    "set4"
   ]
  },
  {
   "cell_type": "code",
   "execution_count": 62,
   "id": "57448fe8",
   "metadata": {},
   "outputs": [
    {
     "data": {
      "text/plain": [
       "27"
      ]
     },
     "execution_count": 62,
     "metadata": {},
     "output_type": "execute_result"
    }
   ],
   "source": [
    "len(set4)"
   ]
  },
  {
   "cell_type": "markdown",
   "id": "ff62fda6",
   "metadata": {},
   "source": [
    "##Now Identify the elements shared between set1 and set2. Assign the elements to a new set named set5"
   ]
  },
  {
   "cell_type": "code",
   "execution_count": 63,
   "id": "ed138338",
   "metadata": {},
   "outputs": [],
   "source": [
    "set5=set1.intersection(set2)"
   ]
  },
  {
   "cell_type": "code",
   "execution_count": 64,
   "id": "2f8ff547",
   "metadata": {},
   "outputs": [
    {
     "name": "stdout",
     "output_type": "stream",
     "text": [
      "{1, 4, 5, 12, 13, 17, 19, 20, 22, 33, 34, 40, 45, 46, 50, 53, 61, 63, 64, 65, 69, 70, 74, 82, 84, 87, 91, 93, 100}\n"
     ]
    }
   ],
   "source": [
    "print (set5)"
   ]
  },
  {
   "cell_type": "markdown",
   "id": "3f99e239",
   "metadata": {},
   "source": [
    "(Optional) What is the relationship among the following values:\n",
    "len(set1)\n",
    "len(set2)\n",
    "len(set3)\n",
    "len(set4)\n",
    "len(set5)\n",
    "Use a formula to represent that relationship. Test your formula with Python code."
   ]
  },
  {
   "cell_type": "code",
   "execution_count": 66,
   "id": "b4ebb69a",
   "metadata": {},
   "outputs": [
    {
     "name": "stdout",
     "output_type": "stream",
     "text": [
      "57\n",
      "56\n",
      "28\n",
      "27\n",
      "29\n"
     ]
    }
   ],
   "source": [
    "print(len(set1))\n",
    "print(len(set2))\n",
    "print(len(set3))\n",
    "print(len(set4))\n",
    "print(len(set5))"
   ]
  },
  {
   "cell_type": "markdown",
   "id": "0da83569",
   "metadata": {},
   "source": [
    "##Create an empty set called set6."
   ]
  },
  {
   "cell_type": "code",
   "execution_count": 67,
   "id": "82bc019e",
   "metadata": {},
   "outputs": [],
   "source": [
    "set6=[]"
   ]
  },
  {
   "cell_type": "markdown",
   "id": "9f4c061e",
   "metadata": {},
   "source": [
    "###Add set3 and set5 to set6 using the Python Set update method."
   ]
  },
  {
   "cell_type": "code",
   "execution_count": 68,
   "id": "db5a61cc",
   "metadata": {},
   "outputs": [
    {
     "ename": "AttributeError",
     "evalue": "'list' object has no attribute 'update'",
     "output_type": "error",
     "traceback": [
      "\u001b[1;31m---------------------------------------------------------------------------\u001b[0m",
      "\u001b[1;31mAttributeError\u001b[0m                            Traceback (most recent call last)",
      "\u001b[1;32m~\\AppData\\Local\\Temp\\ipykernel_16352\\4132385381.py\u001b[0m in \u001b[0;36m<module>\u001b[1;34m\u001b[0m\n\u001b[1;32m----> 1\u001b[1;33m \u001b[0mset6\u001b[0m\u001b[1;33m=\u001b[0m\u001b[0mset3\u001b[0m\u001b[1;33m.\u001b[0m\u001b[0mupdate\u001b[0m\u001b[1;33m(\u001b[0m\u001b[0mset5\u001b[0m\u001b[1;33m)\u001b[0m\u001b[1;33m\u001b[0m\u001b[1;33m\u001b[0m\u001b[0m\n\u001b[0m",
      "\u001b[1;31mAttributeError\u001b[0m: 'list' object has no attribute 'update'"
     ]
    }
   ],
   "source": [
    "sample_list_1 = []\n",
    " \n",
    "for i in range(80):\n",
    "    sample_list_1.append(random.randint(0,100))\n",
    "print(sample_list_1)"
   ]
  },
  {
   "cell_type": "code",
   "execution_count": null,
   "id": "5e1de347",
   "metadata": {},
   "outputs": [],
   "source": []
  }
 ],
 "metadata": {
  "kernelspec": {
   "display_name": "Python 3 (ipykernel)",
   "language": "python",
   "name": "python3"
  },
  "language_info": {
   "codemirror_mode": {
    "name": "ipython",
    "version": 3
   },
   "file_extension": ".py",
   "mimetype": "text/x-python",
   "name": "python",
   "nbconvert_exporter": "python",
   "pygments_lexer": "ipython3",
   "version": "3.9.13"
  }
 },
 "nbformat": 4,
 "nbformat_minor": 5
}
