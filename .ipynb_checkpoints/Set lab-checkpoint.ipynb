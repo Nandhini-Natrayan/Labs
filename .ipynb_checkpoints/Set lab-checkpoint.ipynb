{
 "cells": [
  {
   "cell_type": "code",
   "execution_count": 66,
   "id": "b50f4b76",
   "metadata": {
    "scrolled": true
   },
   "outputs": [
    {
     "name": "stdout",
     "output_type": "stream",
     "text": [
      "[20, 35, 55, 17, 36, 82, 53, 38, 44, 99, 51, 75, 37, 64, 42, 1, 87, 3, 40, 71, 94, 97, 58, 12, 71, 13, 85, 38, 21, 85, 83, 40, 1, 35, 64, 86, 57, 19, 45, 32, 36, 100, 5, 7, 83, 6, 4, 100, 67, 48, 44, 13, 9, 11, 83, 54, 16, 62, 18, 21, 85, 63, 40, 89, 98, 5, 45, 90, 25, 30, 22, 0, 78, 68, 83, 25, 33, 55, 78, 22]\n"
     ]
    }
   ],
   "source": [
    "import random\n",
    "\n",
    "sample_list_1 = []\n",
    " \n",
    "for i in range(80):\n",
    "    sample_list_1.append(random.randint(0,100))\n",
    "print(sample_list_1)"
   ]
  },
  {
   "cell_type": "code",
   "execution_count": 67,
   "id": "f85a3c6b",
   "metadata": {},
   "outputs": [
    {
     "data": {
      "text/plain": [
       "80"
      ]
     },
     "execution_count": 67,
     "metadata": {},
     "output_type": "execute_result"
    }
   ],
   "source": [
    "len(sample_list_1)"
   ]
  },
  {
   "cell_type": "code",
   "execution_count": 68,
   "id": "25f2d8af",
   "metadata": {},
   "outputs": [],
   "source": [
    "set1=set(sample_list_1)"
   ]
  },
  {
   "cell_type": "code",
   "execution_count": 69,
   "id": "ab991d4d",
   "metadata": {},
   "outputs": [
    {
     "name": "stdout",
     "output_type": "stream",
     "text": [
      "57\n"
     ]
    }
   ],
   "source": [
    "print(len(set1))"
   ]
  },
  {
   "cell_type": "code",
   "execution_count": 70,
   "id": "fc693c93",
   "metadata": {},
   "outputs": [
    {
     "name": "stdout",
     "output_type": "stream",
     "text": [
      "[6, 68, 1, 20, 50, 10, 85, 36, 0, 68, 14, 42, 84, 74, 21, 44, 8, 21, 22, 45, 7, 39, 29, 69, 65, 74, 49, 93, 85, 77, 77, 49, 37, 9, 55, 38, 80, 71, 36, 57, 67, 40, 20, 62, 25, 14, 16, 10, 78, 81, 48, 8, 96, 5, 77, 69, 7, 6, 1, 44, 93, 86, 69, 33, 87, 51, 78, 27, 18, 85, 58, 37, 76, 46, 49, 13, 72, 25, 74, 90]\n"
     ]
    }
   ],
   "source": [
    "import random\n",
    "sample_list_2 = []\n",
    " \n",
    "for i in range(80):\n",
    "    sample_list_2.append(random.randint(0,100))\n",
    "print(sample_list_2)"
   ]
  },
  {
   "cell_type": "code",
   "execution_count": 71,
   "id": "1441f5f4",
   "metadata": {},
   "outputs": [
    {
     "data": {
      "text/plain": [
       "80"
      ]
     },
     "execution_count": 71,
     "metadata": {},
     "output_type": "execute_result"
    }
   ],
   "source": [
    "len(sample_list_2)"
   ]
  },
  {
   "cell_type": "code",
   "execution_count": 72,
   "id": "94fcca7b",
   "metadata": {},
   "outputs": [],
   "source": [
    "set2=set(sample_list_2)"
   ]
  },
  {
   "cell_type": "code",
   "execution_count": 73,
   "id": "61424555",
   "metadata": {},
   "outputs": [
    {
     "name": "stdout",
     "output_type": "stream",
     "text": [
      "57\n"
     ]
    }
   ],
   "source": [
    "print(len(set1))"
   ]
  },
  {
   "cell_type": "code",
   "execution_count": 74,
   "id": "b1624b9f",
   "metadata": {},
   "outputs": [
    {
     "name": "stdout",
     "output_type": "stream",
     "text": [
      "55\n"
     ]
    }
   ],
   "source": [
    "print(len(set2))"
   ]
  },
  {
   "cell_type": "markdown",
   "id": "adc0973e",
   "metadata": {},
   "source": [
    "#Identify the elements present in set1 but not in set2. Assign the elements to a new set named set3."
   ]
  },
  {
   "cell_type": "code",
   "execution_count": 75,
   "id": "79e93cfb",
   "metadata": {},
   "outputs": [
    {
     "data": {
      "text/plain": [
       "{3,\n",
       " 4,\n",
       " 11,\n",
       " 12,\n",
       " 17,\n",
       " 19,\n",
       " 30,\n",
       " 32,\n",
       " 35,\n",
       " 53,\n",
       " 54,\n",
       " 63,\n",
       " 64,\n",
       " 75,\n",
       " 82,\n",
       " 83,\n",
       " 89,\n",
       " 94,\n",
       " 97,\n",
       " 98,\n",
       " 99,\n",
       " 100}"
      ]
     },
     "execution_count": 75,
     "metadata": {},
     "output_type": "execute_result"
    }
   ],
   "source": [
    "set3=set1-set2\n",
    "set3"
   ]
  },
  {
   "cell_type": "code",
   "execution_count": 76,
   "id": "c35eb6ed",
   "metadata": {},
   "outputs": [
    {
     "data": {
      "text/plain": [
       "22"
      ]
     },
     "execution_count": 76,
     "metadata": {},
     "output_type": "execute_result"
    }
   ],
   "source": [
    "len(list(set1.difference(set2)))"
   ]
  },
  {
   "cell_type": "markdown",
   "id": "9aa5abb5",
   "metadata": {},
   "source": [
    "##Identify the elements present in set2 but not in set1. Assign the elements to a new set named set4."
   ]
  },
  {
   "cell_type": "code",
   "execution_count": 77,
   "id": "996fe784",
   "metadata": {},
   "outputs": [
    {
     "data": {
      "text/plain": [
       "{8, 10, 14, 27, 29, 39, 46, 49, 50, 65, 69, 72, 74, 76, 77, 80, 81, 84, 93, 96}"
      ]
     },
     "execution_count": 77,
     "metadata": {},
     "output_type": "execute_result"
    }
   ],
   "source": [
    "set4=set2-set1\n",
    "set4"
   ]
  },
  {
   "cell_type": "code",
   "execution_count": 78,
   "id": "57448fe8",
   "metadata": {},
   "outputs": [
    {
     "data": {
      "text/plain": [
       "20"
      ]
     },
     "execution_count": 78,
     "metadata": {},
     "output_type": "execute_result"
    }
   ],
   "source": [
    "len(set4)"
   ]
  },
  {
   "cell_type": "markdown",
   "id": "a6cc9103",
   "metadata": {},
   "source": [
    "##Now Identify the elements shared between set1 and set2. Assign the elements to a new set named set5"
   ]
  },
  {
   "cell_type": "code",
   "execution_count": 79,
   "id": "2f2a0c47",
   "metadata": {},
   "outputs": [],
   "source": [
    "set5=[]"
   ]
  },
  {
   "cell_type": "code",
   "execution_count": 80,
   "id": "ed138338",
   "metadata": {},
   "outputs": [],
   "source": [
    "set5=set1.intersection(set2)"
   ]
  },
  {
   "cell_type": "code",
   "execution_count": 81,
   "id": "2f8ff547",
   "metadata": {},
   "outputs": [
    {
     "name": "stdout",
     "output_type": "stream",
     "text": [
      "{0, 1, 5, 6, 7, 9, 13, 16, 18, 20, 21, 22, 25, 33, 36, 37, 38, 40, 42, 44, 45, 48, 51, 55, 57, 58, 62, 67, 68, 71, 78, 85, 86, 87, 90}\n"
     ]
    }
   ],
   "source": [
    "print (set5)"
   ]
  },
  {
   "cell_type": "markdown",
   "id": "b5e1dff8",
   "metadata": {},
   "source": [
    "(Optional) What is the relationship among the following values:\n",
    "len(set1)\n",
    "len(set2)\n",
    "len(set3)\n",
    "len(set4)\n",
    "len(set5)\n",
    "Use a formula to represent that relationship. Test your formula with Python code."
   ]
  },
  {
   "cell_type": "code",
   "execution_count": 82,
   "id": "ddde1c38",
   "metadata": {},
   "outputs": [
    {
     "name": "stdout",
     "output_type": "stream",
     "text": [
      "57\n",
      "55\n",
      "22\n",
      "20\n",
      "35\n"
     ]
    }
   ],
   "source": [
    "print(len(set1))\n",
    "print(len(set2))\n",
    "print(len(set3))\n",
    "print(len(set4))\n",
    "print(len(set5))"
   ]
  },
  {
   "cell_type": "markdown",
   "id": "37a6481f",
   "metadata": {},
   "source": [
    "##Create an empty set called set6."
   ]
  },
  {
   "cell_type": "markdown",
   "id": "5e1f4045",
   "metadata": {},
   "source": [
    "###Add set3 and set5 to set6 using the Python Set update method."
   ]
  },
  {
   "cell_type": "code",
   "execution_count": 91,
   "id": "3781c07e",
   "metadata": {},
   "outputs": [],
   "source": [
    "set6=set()"
   ]
  },
  {
   "cell_type": "code",
   "execution_count": 92,
   "id": "035cf55a",
   "metadata": {},
   "outputs": [],
   "source": [
    "set6.update(set3,set5)\n"
   ]
  },
  {
   "cell_type": "code",
   "execution_count": 94,
   "id": "f6676ffa",
   "metadata": {},
   "outputs": [
    {
     "name": "stdout",
     "output_type": "stream",
     "text": [
      "{0, 1, 3, 4, 5, 6, 7, 9, 11, 12, 13, 16, 17, 18, 19, 20, 21, 22, 25, 30, 32, 33, 35, 36, 37, 38, 40, 42, 44, 45, 48, 51, 53, 54, 55, 57, 58, 62, 63, 64, 67, 68, 71, 75, 78, 82, 83, 85, 86, 87, 89, 90, 94, 97, 98, 99, 100}\n"
     ]
    }
   ],
   "source": [
    "print(set6)"
   ]
  },
  {
   "cell_type": "markdown",
   "id": "373eefe7",
   "metadata": {},
   "source": [
    "###Check if set1 and set6 are equal"
   ]
  },
  {
   "cell_type": "code",
   "execution_count": 95,
   "id": "cd7b45fd",
   "metadata": {},
   "outputs": [
    {
     "data": {
      "text/plain": [
       "True"
      ]
     },
     "execution_count": 95,
     "metadata": {},
     "output_type": "execute_result"
    }
   ],
   "source": [
    "set1==set6"
   ]
  },
  {
   "cell_type": "markdown",
   "id": "caebd88b",
   "metadata": {},
   "source": [
    "##Check if set1 contains set2 using the Python Set issubset method. Then check if set1 contains set3.*"
   ]
  },
  {
   "cell_type": "code",
   "execution_count": 96,
   "id": "25eb2fa8",
   "metadata": {},
   "outputs": [
    {
     "data": {
      "text/plain": [
       "False"
      ]
     },
     "execution_count": 96,
     "metadata": {},
     "output_type": "execute_result"
    }
   ],
   "source": [
    "set1.issubset(set2)"
   ]
  },
  {
   "cell_type": "code",
   "execution_count": 98,
   "id": "7d3cd126",
   "metadata": {},
   "outputs": [
    {
     "data": {
      "text/plain": [
       "False"
      ]
     },
     "execution_count": 98,
     "metadata": {},
     "output_type": "execute_result"
    }
   ],
   "source": [
    "set1.issubset(set3)"
   ]
  },
  {
   "cell_type": "markdown",
   "id": "7022b813",
   "metadata": {},
   "source": [
    "##Using the Python Set union method, aggregate set3, set4, and set5. Then aggregate set1 and set2"
   ]
  },
  {
   "cell_type": "code",
   "execution_count": null,
   "id": "ffe80bd2",
   "metadata": {},
   "outputs": [],
   "source": []
  },
  {
   "cell_type": "markdown",
   "id": "060a0e95",
   "metadata": {},
   "source": [
    "##Using the pop method, remove an element from set1"
   ]
  },
  {
   "cell_type": "markdown",
   "id": "cba44e5f",
   "metadata": {},
   "source": [
    "###Remove every element in the following list from set1 if they are present in the set. Print the remaining elements.\n",
    "list_to_remove = [1, 9, 11, 19, 21, 29, 31, 39, 41, 49, 51, 59, 61, 69, 71, 79, 81, 89, 91, 99]"
   ]
  }
 ],
 "metadata": {
  "kernelspec": {
   "display_name": "Python 3 (ipykernel)",
   "language": "python",
   "name": "python3"
  },
  "language_info": {
   "codemirror_mode": {
    "name": "ipython",
    "version": 3
   },
   "file_extension": ".py",
   "mimetype": "text/x-python",
   "name": "python",
   "nbconvert_exporter": "python",
   "pygments_lexer": "ipython3",
   "version": "3.9.13"
  }
 },
 "nbformat": 4,
 "nbformat_minor": 5
}
