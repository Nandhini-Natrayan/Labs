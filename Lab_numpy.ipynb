{
 "cells": [
  {
   "cell_type": "markdown",
   "id": "f191a73c",
   "metadata": {},
   "source": [
    "#### 1. Import the numpy package under the name `np` (★☆☆)"
   ]
  },
  {
   "cell_type": "code",
   "execution_count": 123,
   "id": "aa3ecec8",
   "metadata": {},
   "outputs": [],
   "source": [
    "import numpy as np"
   ]
  },
  {
   "cell_type": "markdown",
   "id": "8522f786",
   "metadata": {},
   "source": [
    "#### 2. Create a null vector of size 10 (★☆☆)"
   ]
  },
  {
   "cell_type": "code",
   "execution_count": 124,
   "id": "4224546f",
   "metadata": {},
   "outputs": [
    {
     "name": "stdout",
     "output_type": "stream",
     "text": [
      "[0. 0. 0. 0. 0. 0. 0. 0. 0. 0.] \n",
      "\n"
     ]
    }
   ],
   "source": [
    "a = np.zeros(10)  # Create an array of all zeros\n",
    "print(a, \"\\n\")"
   ]
  },
  {
   "cell_type": "markdown",
   "id": "574d9b27",
   "metadata": {},
   "source": [
    "#### 3. Create a null vector of size 10 but the fifth value which is 1 (★☆☆)"
   ]
  },
  {
   "cell_type": "code",
   "execution_count": 125,
   "id": "a08cd094",
   "metadata": {},
   "outputs": [
    {
     "name": "stdout",
     "output_type": "stream",
     "text": [
      "[0. 0. 0. 0. 0. 0. 0. 0. 0. 0.] \n",
      "\n"
     ]
    }
   ],
   "source": [
    "a = np.zeros(10)\n",
    "print(a, \"\\n\")\n"
   ]
  },
  {
   "cell_type": "code",
   "execution_count": 126,
   "id": "e9dfc088",
   "metadata": {},
   "outputs": [
    {
     "name": "stdout",
     "output_type": "stream",
     "text": [
      "[0. 0. 0. 0. 0. 1. 0. 0. 0. 0.]\n"
     ]
    }
   ],
   "source": [
    "a[5] = 1 #upate the fifth value as 1\n",
    "print(a)"
   ]
  },
  {
   "cell_type": "markdown",
   "id": "13a6f1a8",
   "metadata": {},
   "source": [
    "#### 4. Create a vector with values ranging from 10 to 49 (★☆☆)\n",
    "`hint: arange`"
   ]
  },
  {
   "cell_type": "code",
   "execution_count": 127,
   "id": "5a66f1e2",
   "metadata": {},
   "outputs": [
    {
     "data": {
      "text/plain": [
       "array([10, 11, 12, 13, 14, 15, 16, 17, 18, 19, 20, 21, 22, 23, 24, 25, 26,\n",
       "       27, 28, 29, 30, 31, 32, 33, 34, 35, 36, 37, 38, 39, 40, 41, 42, 43,\n",
       "       44, 45, 46, 47, 48])"
      ]
     },
     "execution_count": 127,
     "metadata": {},
     "output_type": "execute_result"
    }
   ],
   "source": [
    "np.arange(10,49)"
   ]
  },
  {
   "cell_type": "markdown",
   "id": "01fa716e",
   "metadata": {},
   "source": [
    "#### 5. Create a 3x3 matrix with values ranging from 0 to 8 (★☆☆)\n",
    "`hint: reshape`"
   ]
  },
  {
   "cell_type": "code",
   "execution_count": 128,
   "id": "dfc99b9a",
   "metadata": {},
   "outputs": [
    {
     "name": "stdout",
     "output_type": "stream",
     "text": [
      "[[0 1 2]\n",
      " [3 4 5]\n",
      " [6 7 8]]\n"
     ]
    }
   ],
   "source": [
    "a = np.arange(0, 9).reshape((3, 3))\n",
    "print(a)"
   ]
  },
  {
   "cell_type": "markdown",
   "id": "9ef5a85c",
   "metadata": {},
   "source": [
    "#### 6. Find indices of non-zero elements from [1,2,0,0,4,0] (★☆☆)\n",
    "`hint: np.nonzero`"
   ]
  },
  {
   "cell_type": "code",
   "execution_count": 129,
   "id": "170a248e",
   "metadata": {},
   "outputs": [
    {
     "data": {
      "text/plain": [
       "(array([0, 1, 4], dtype=int64),)"
      ]
     },
     "execution_count": 129,
     "metadata": {},
     "output_type": "execute_result"
    }
   ],
   "source": [
    "a=[1,2,0,0,4,0]\n",
    "np.nonzero(a)"
   ]
  },
  {
   "cell_type": "markdown",
   "id": "a7b7fede",
   "metadata": {},
   "source": [
    "\n",
    "#### 7. Create a 3x3 identity matrix (★☆☆)\n",
    "`hint: np.eye"
   ]
  },
  {
   "cell_type": "code",
   "execution_count": 130,
   "id": "54248311",
   "metadata": {},
   "outputs": [
    {
     "data": {
      "text/plain": [
       "array([[1, 0, 0],\n",
       "       [0, 1, 0],\n",
       "       [0, 0, 1]])"
      ]
     },
     "execution_count": 130,
     "metadata": {},
     "output_type": "execute_result"
    }
   ],
   "source": [
    "np.eye(3, dtype=int)"
   ]
  },
  {
   "cell_type": "markdown",
   "id": "4a774c78",
   "metadata": {},
   "source": [
    "#### 8. Create a 3x3x3 array with random values (★☆☆)\n",
    "`hint: np.random.random`"
   ]
  },
  {
   "cell_type": "code",
   "execution_count": 131,
   "id": "4eedf1c2",
   "metadata": {},
   "outputs": [
    {
     "name": "stdout",
     "output_type": "stream",
     "text": [
      "[[[0.05476701 0.63996359 0.34013065]\n",
      "  [0.52192869 0.3654113  0.58210118]\n",
      "  [0.81347076 0.41071209 0.69240338]]\n",
      "\n",
      " [[0.94751906 0.26901849 0.36979723]\n",
      "  [0.23601084 0.33574366 0.70514631]\n",
      "  [0.28507425 0.76559695 0.7054547 ]]\n",
      "\n",
      " [[0.04900636 0.27965437 0.75148077]\n",
      "  [0.18177386 0.18144433 0.45426069]\n",
      "  [0.8114716  0.9169548  0.16114137]]]\n"
     ]
    }
   ],
   "source": [
    "c = np.random.random((3,3,3))\n",
    "print(c)"
   ]
  },
  {
   "cell_type": "markdown",
   "id": "46743894",
   "metadata": {},
   "source": [
    "#### 9. Create a 10x10 array with random values and find the minimum and maximum values (★☆☆)\n",
    "`hint: min, max`"
   ]
  },
  {
   "cell_type": "code",
   "execution_count": 132,
   "id": "8d071ae3",
   "metadata": {},
   "outputs": [
    {
     "name": "stdout",
     "output_type": "stream",
     "text": [
      "[[0.00857197 0.2791335  0.83162667 0.59846257 0.84624989 0.03555602\n",
      "  0.50113744 0.46483085 0.00118682 0.72035353]\n",
      " [0.58492748 0.69265364 0.52001012 0.92269951 0.87014497 0.99775889\n",
      "  0.27379685 0.34903343 0.08707151 0.17291558]\n",
      " [0.87456473 0.87336254 0.15600163 0.99269711 0.50752698 0.5280645\n",
      "  0.03584059 0.26725238 0.75781354 0.53623951]\n",
      " [0.11059383 0.24345075 0.31699133 0.6929198  0.40147975 0.17631544\n",
      "  0.22072598 0.56839101 0.4092596  0.70048002]\n",
      " [0.43079864 0.43850863 0.31144395 0.35387104 0.92613018 0.0121665\n",
      "  0.51484614 0.32589414 0.96684478 0.90822686]\n",
      " [0.19100269 0.09298887 0.17316032 0.46735528 0.30594566 0.65698411\n",
      "  0.63909974 0.14580816 0.51876863 0.12620942]\n",
      " [0.76350741 0.07589881 0.88485304 0.41526214 0.91239862 0.71477477\n",
      "  0.09334183 0.76311809 0.06403925 0.22907808]\n",
      " [0.80834327 0.07837666 0.06260471 0.59470121 0.66752585 0.71499161\n",
      "  0.24695991 0.54851405 0.84328342 0.55840044]\n",
      " [0.81911301 0.7442846  0.79004952 0.03796407 0.70445277 0.00130124\n",
      "  0.02958104 0.83713038 0.67368518 0.94068074]\n",
      " [0.01169808 0.26701399 0.39728238 0.22196715 0.37802228 0.31207116\n",
      "  0.49443217 0.30282944 0.57970653 0.00589113]]\n"
     ]
    }
   ],
   "source": [
    "c = np.random.random((10,10))\n",
    "print(c)"
   ]
  },
  {
   "cell_type": "code",
   "execution_count": 133,
   "id": "522f867a",
   "metadata": {},
   "outputs": [
    {
     "data": {
      "text/plain": [
       "0.0011868207670876485"
      ]
     },
     "execution_count": 133,
     "metadata": {},
     "output_type": "execute_result"
    }
   ],
   "source": [
    "c.min()"
   ]
  },
  {
   "cell_type": "code",
   "execution_count": 134,
   "id": "8084ab90",
   "metadata": {},
   "outputs": [
    {
     "data": {
      "text/plain": [
       "0.9977588914309773"
      ]
     },
     "execution_count": 134,
     "metadata": {},
     "output_type": "execute_result"
    }
   ],
   "source": [
    "c.max()"
   ]
  },
  {
   "cell_type": "markdown",
   "id": "2d71a2de",
   "metadata": {},
   "source": [
    "#### 10. Create a random vector of size 30 and find the mean value (★☆☆)\n",
    "`hint: mean`"
   ]
  },
  {
   "cell_type": "code",
   "execution_count": 135,
   "id": "b69037b6",
   "metadata": {},
   "outputs": [
    {
     "name": "stdout",
     "output_type": "stream",
     "text": [
      "[0.79444197 0.70364945 0.24672392 0.30860056 0.77106394 0.05094552\n",
      " 0.25399206 0.76888101 0.60803027 0.64288755 0.91595092 0.42206928\n",
      " 0.77979883 0.98848919 0.90450899 0.182458   0.39636681 0.01022942\n",
      " 0.99345378 0.36956809 0.30871188 0.6247218  0.95024504 0.39141216\n",
      " 0.07518851 0.22189981 0.17912493 0.17693834 0.3424649  0.12457483]\n"
     ]
    }
   ],
   "source": [
    "x = np.random.random((30))\n",
    "print(x)"
   ]
  },
  {
   "cell_type": "code",
   "execution_count": 137,
   "id": "f079e1a3",
   "metadata": {},
   "outputs": [
    {
     "data": {
      "text/plain": [
       "30"
      ]
     },
     "execution_count": 137,
     "metadata": {},
     "output_type": "execute_result"
    }
   ],
   "source": [
    "x.size"
   ]
  },
  {
   "cell_type": "code",
   "execution_count": 138,
   "id": "465e2389",
   "metadata": {},
   "outputs": [
    {
     "data": {
      "text/plain": [
       "0.4835797254318027"
      ]
     },
     "execution_count": 138,
     "metadata": {},
     "output_type": "execute_result"
    }
   ],
   "source": [
    "x.mean()"
   ]
  },
  {
   "cell_type": "markdown",
   "id": "351fe286",
   "metadata": {},
   "source": [
    "#### 11. Create a 5x5 matrix with values 1,2,3,4 just below the diagonal (★☆☆)\n",
    "`hint: np.diag`"
   ]
  },
  {
   "cell_type": "code",
   "execution_count": 139,
   "id": "48e4381c",
   "metadata": {},
   "outputs": [
    {
     "name": "stdout",
     "output_type": "stream",
     "text": [
      "[[0 0 0 0 0]\n",
      " [1 0 0 0 0]\n",
      " [0 2 0 0 0]\n",
      " [0 0 3 0 0]\n",
      " [0 0 0 4 0]]\n"
     ]
    }
   ],
   "source": [
    "a=np.diag(np.arange(1,5),k=-1)\n",
    "print(a)"
   ]
  },
  {
   "cell_type": "markdown",
   "id": "e73df7ed",
   "metadata": {},
   "source": [
    "#### 12. Normalize a 5x5 random matrix (★☆☆)\n",
    "`hint: (x -mean)/std`"
   ]
  },
  {
   "cell_type": "code",
   "execution_count": 140,
   "id": "9bb155d0",
   "metadata": {},
   "outputs": [],
   "source": [
    "x = np.random.random((5,5))"
   ]
  },
  {
   "cell_type": "code",
   "execution_count": 141,
   "id": "b41f3193",
   "metadata": {},
   "outputs": [
    {
     "name": "stdout",
     "output_type": "stream",
     "text": [
      "[[0.21495659 0.88858093 0.37985265 0.87074493 0.9860103 ]\n",
      " [0.97232827 0.10445891 0.56539665 0.96851702 0.28031651]\n",
      " [0.50108985 0.47286977 0.94998769 0.93945356 0.59624992]\n",
      " [0.45695548 0.93494732 0.12619694 0.79938518 0.74686081]\n",
      " [0.59930336 0.8678764  0.80818954 0.445031   0.94817074]]\n"
     ]
    }
   ],
   "source": [
    "print(x)"
   ]
  },
  {
   "cell_type": "code",
   "execution_count": 142,
   "id": "f6d4f2da",
   "metadata": {},
   "outputs": [
    {
     "data": {
      "text/plain": [
       "0.6569492133039394"
      ]
     },
     "execution_count": 142,
     "metadata": {},
     "output_type": "execute_result"
    }
   ],
   "source": [
    "x.mean()"
   ]
  },
  {
   "cell_type": "code",
   "execution_count": 143,
   "id": "ab87e64f",
   "metadata": {},
   "outputs": [],
   "source": [
    "std = np.std(x)"
   ]
  },
  {
   "cell_type": "code",
   "execution_count": 144,
   "id": "a8464b3e",
   "metadata": {},
   "outputs": [
    {
     "data": {
      "text/plain": [
       "0.28192906340559853"
      ]
     },
     "execution_count": 144,
     "metadata": {},
     "output_type": "execute_result"
    }
   ],
   "source": [
    "std"
   ]
  },
  {
   "cell_type": "code",
   "execution_count": 145,
   "id": "6f82fb22",
   "metadata": {},
   "outputs": [],
   "source": [
    "normalize=x-x.mean()/std"
   ]
  },
  {
   "cell_type": "code",
   "execution_count": 146,
   "id": "9a631efb",
   "metadata": {
    "scrolled": true
   },
   "outputs": [
    {
     "name": "stdout",
     "output_type": "stream",
     "text": [
      "[[-2.11523671 -1.44161236 -1.95034064 -1.45944836 -1.34418299]\n",
      " [-1.35786502 -2.22573438 -1.76479664 -1.36167628 -2.04987679]\n",
      " [-1.82910345 -1.85732353 -1.38020561 -1.39073974 -1.73394338]\n",
      " [-1.87323781 -1.39524597 -2.20399636 -1.53080812 -1.58333249]\n",
      " [-1.73088993 -1.46231689 -1.52200376 -1.88516229 -1.38202255]]\n"
     ]
    }
   ],
   "source": [
    "print(normalize)"
   ]
  },
  {
   "cell_type": "markdown",
   "id": "12f9b345",
   "metadata": {},
   "source": [
    "#### 13. How to find common values between two arrays? (★☆☆)\n",
    "`hint: np.intersect1d`"
   ]
  },
  {
   "cell_type": "code",
   "execution_count": 147,
   "id": "d3602b78",
   "metadata": {},
   "outputs": [],
   "source": [
    "x = [2, 6, 1, 3, 4]\n",
    "y = [2, 3, 1, 6, 7,]"
   ]
  },
  {
   "cell_type": "code",
   "execution_count": 148,
   "id": "cef6143a",
   "metadata": {},
   "outputs": [
    {
     "data": {
      "text/plain": [
       "array([1, 2, 3, 6])"
      ]
     },
     "execution_count": 148,
     "metadata": {},
     "output_type": "execute_result"
    }
   ],
   "source": [
    "np.intersect1d(x,y)"
   ]
  },
  {
   "cell_type": "markdown",
   "id": "52ef9670",
   "metadata": {},
   "source": [
    "#### 14. Create a random vector of size 10 and sort it (★★☆)\n",
    "`hint: sort`"
   ]
  },
  {
   "cell_type": "code",
   "execution_count": 149,
   "id": "b6ce4b47",
   "metadata": {},
   "outputs": [],
   "source": [
    "x = np.random.random((10))"
   ]
  },
  {
   "cell_type": "code",
   "execution_count": 150,
   "id": "02a0f137",
   "metadata": {},
   "outputs": [
    {
     "data": {
      "text/plain": [
       "array([0.68172653, 0.32998125, 0.6646482 , 0.2906304 , 0.51885868,\n",
       "       0.293053  , 0.34487834, 0.56430075, 0.90076765, 0.98031021])"
      ]
     },
     "execution_count": 150,
     "metadata": {},
     "output_type": "execute_result"
    }
   ],
   "source": [
    "x"
   ]
  },
  {
   "cell_type": "code",
   "execution_count": 151,
   "id": "1a57d76c",
   "metadata": {},
   "outputs": [],
   "source": [
    "x.sort()"
   ]
  },
  {
   "cell_type": "code",
   "execution_count": 152,
   "id": "fc3e8b59",
   "metadata": {},
   "outputs": [
    {
     "data": {
      "text/plain": [
       "array([0.2906304 , 0.293053  , 0.32998125, 0.34487834, 0.51885868,\n",
       "       0.56430075, 0.6646482 , 0.68172653, 0.90076765, 0.98031021])"
      ]
     },
     "execution_count": 152,
     "metadata": {},
     "output_type": "execute_result"
    }
   ],
   "source": [
    "x"
   ]
  },
  {
   "cell_type": "markdown",
   "id": "2a0bbbd1",
   "metadata": {},
   "source": [
    "#### 15. Create random vector of size 10 and replace the maximum value by 0 (★★☆)\n",
    "`hint: argmax`"
   ]
  },
  {
   "cell_type": "code",
   "execution_count": 153,
   "id": "2ad2253b",
   "metadata": {},
   "outputs": [],
   "source": [
    "x = np.random.random((10))"
   ]
  },
  {
   "cell_type": "code",
   "execution_count": 154,
   "id": "4036fe9e",
   "metadata": {},
   "outputs": [
    {
     "data": {
      "text/plain": [
       "array([0.64709798, 0.23110316, 0.33219012, 0.58218523, 0.67181437,\n",
       "       0.1633406 , 0.20682077, 0.39360171, 0.67869623, 0.06523298])"
      ]
     },
     "execution_count": 154,
     "metadata": {},
     "output_type": "execute_result"
    }
   ],
   "source": [
    "x"
   ]
  },
  {
   "cell_type": "code",
   "execution_count": 155,
   "id": "6098c7bb",
   "metadata": {},
   "outputs": [],
   "source": [
    "x[x.argmax()]=0"
   ]
  },
  {
   "cell_type": "code",
   "execution_count": 157,
   "id": "5f1d67dd",
   "metadata": {},
   "outputs": [
    {
     "data": {
      "text/plain": [
       "array([0.64709798, 0.23110316, 0.33219012, 0.58218523, 0.67181437,\n",
       "       0.1633406 , 0.20682077, 0.39360171, 0.        , 0.06523298])"
      ]
     },
     "execution_count": 157,
     "metadata": {},
     "output_type": "execute_result"
    }
   ],
   "source": [
    "x"
   ]
  },
  {
   "cell_type": "markdown",
   "id": "6fa87c2b",
   "metadata": {},
   "source": [
    "#### 16. Subtract the mean of each row of a matrix (★★☆)\n",
    "`hint: mean(axis=,keepdims=)`"
   ]
  },
  {
   "cell_type": "code",
   "execution_count": 158,
   "id": "d0f9ed84",
   "metadata": {},
   "outputs": [
    {
     "name": "stdout",
     "output_type": "stream",
     "text": [
      "[[0.13637746 0.61965123 0.51707921 0.6845142 ]\n",
      " [0.67584014 0.58924882 0.3510857  0.19938163]\n",
      " [0.2049628  0.51005626 0.72634184 0.89961341]]\n"
     ]
    }
   ],
   "source": [
    "a = np.random.rand(3, 4)\n",
    "print(a)"
   ]
  },
  {
   "cell_type": "code",
   "execution_count": 170,
   "id": "1728ccb9",
   "metadata": {},
   "outputs": [
    {
     "name": "stdout",
     "output_type": "stream",
     "text": [
      "[[ 0.41790573 -0.2761079  -0.14179783]\n",
      " [-0.25371693  0.32301826 -0.06930133]\n",
      " [ 0.07894351 -0.11979454  0.04085103]\n",
      " [ 0.02830064 -0.04917534  0.0208747 ]\n",
      " [-0.31793409  0.46144924 -0.14351515]]\n"
     ]
    }
   ],
   "source": [
    "b = a - a.mean(axis=1, keepdims=True)\n",
    "print(b)"
   ]
  },
  {
   "cell_type": "markdown",
   "id": "0112a3ed",
   "metadata": {},
   "source": [
    "#### 17. How to get the n largest values of an array"
   ]
  },
  {
   "cell_type": "code",
   "execution_count": 160,
   "id": "b66c20be",
   "metadata": {},
   "outputs": [
    {
     "data": {
      "text/plain": [
       "array([   0,    1,    2, ..., 9997, 9998, 9999])"
      ]
     },
     "execution_count": 160,
     "metadata": {},
     "output_type": "execute_result"
    }
   ],
   "source": [
    "z = np.arange(10000)\n",
    "z"
   ]
  },
  {
   "cell_type": "code",
   "execution_count": 161,
   "id": "bb0737a0",
   "metadata": {},
   "outputs": [],
   "source": [
    "np.random.shuffle(z)\n",
    "n=5"
   ]
  },
  {
   "cell_type": "code",
   "execution_count": 162,
   "id": "6220ea4e",
   "metadata": {},
   "outputs": [
    {
     "name": "stdout",
     "output_type": "stream",
     "text": [
      "[9995 9996 9997 9998 9999]\n"
     ]
    }
   ],
   "source": [
    "print (z[np.argsort(z)[-n:]])"
   ]
  },
  {
   "cell_type": "markdown",
   "id": "d507f36d",
   "metadata": {},
   "source": [
    "#### 18. Create a random 5*3 matrix and replace items that are larger than 4 by their squares"
   ]
  },
  {
   "cell_type": "code",
   "execution_count": 163,
   "id": "fc13f466",
   "metadata": {},
   "outputs": [
    {
     "name": "stdout",
     "output_type": "stream",
     "text": [
      "[[0.7719893  0.07797566 0.21228573]\n",
      " [0.26326934 0.84000453 0.44768495]\n",
      " [0.76185926 0.56312121 0.72376678]\n",
      " [0.3053982  0.22792221 0.29797226]\n",
      " [0.0906041  0.86998743 0.26502303]]\n"
     ]
    }
   ],
   "source": [
    "a = np.random.random((5,3))\n",
    "print(a)"
   ]
  },
  {
   "cell_type": "code",
   "execution_count": 164,
   "id": "e665fd20",
   "metadata": {},
   "outputs": [],
   "source": [
    "b=np.where(a > 4,a,a**2)\n",
    "    "
   ]
  },
  {
   "cell_type": "code",
   "execution_count": 165,
   "id": "479d0ac7",
   "metadata": {},
   "outputs": [
    {
     "name": "stdout",
     "output_type": "stream",
     "text": [
      "[[0.59596748 0.0060802  0.04506523]\n",
      " [0.06931075 0.70560762 0.20042182]\n",
      " [0.58042954 0.31710549 0.52383835]\n",
      " [0.09326806 0.05194854 0.08878747]\n",
      " [0.0082091  0.75687812 0.07023721]]\n"
     ]
    }
   ],
   "source": [
    "print(b)"
   ]
  },
  {
   "cell_type": "code",
   "execution_count": null,
   "id": "eb3c0552",
   "metadata": {},
   "outputs": [],
   "source": []
  }
 ],
 "metadata": {
  "kernelspec": {
   "display_name": "Python 3 (ipykernel)",
   "language": "python",
   "name": "python3"
  },
  "language_info": {
   "codemirror_mode": {
    "name": "ipython",
    "version": 3
   },
   "file_extension": ".py",
   "mimetype": "text/x-python",
   "name": "python",
   "nbconvert_exporter": "python",
   "pygments_lexer": "ipython3",
   "version": "3.9.13"
  }
 },
 "nbformat": 4,
 "nbformat_minor": 5
}
